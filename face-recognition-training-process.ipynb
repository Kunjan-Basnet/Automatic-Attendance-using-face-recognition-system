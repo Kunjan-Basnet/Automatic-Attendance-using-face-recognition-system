{
 "cells": [
  {
   "cell_type": "code",
   "execution_count": 225,
   "id": "06510861",
   "metadata": {
    "execution": {
     "iopub.execute_input": "2024-09-14T08:27:47.032648Z",
     "iopub.status.busy": "2024-09-14T08:27:47.032275Z",
     "iopub.status.idle": "2024-09-14T08:27:47.037319Z",
     "shell.execute_reply": "2024-09-14T08:27:47.036376Z",
     "shell.execute_reply.started": "2024-09-14T08:27:47.032611Z"
    },
    "tags": []
   },
   "outputs": [],
   "source": [
    "import tensorflow as tf\n",
    "import cv2\n",
    "import json\n",
    "import matplotlib.pyplot as plt\n",
    "import numpy as np"
   ]
  },
  {
   "cell_type": "code",
   "execution_count": 226,
   "id": "2525bfb8",
   "metadata": {
    "execution": {
     "iopub.execute_input": "2024-09-14T08:27:47.446766Z",
     "iopub.status.busy": "2024-09-14T08:27:47.446134Z",
     "iopub.status.idle": "2024-09-14T08:27:47.452636Z",
     "shell.execute_reply": "2024-09-14T08:27:47.451837Z",
     "shell.execute_reply.started": "2024-09-14T08:27:47.446722Z"
    },
    "tags": []
   },
   "outputs": [],
   "source": [
    "def load_image(x):\n",
    "    byte_img = tf.io.read_file(x)\n",
    "    img = tf.io.decode_jpeg(byte_img)\n",
    "    return img"
   ]
  },
  {
   "cell_type": "code",
   "execution_count": 227,
   "id": "7190f68f",
   "metadata": {
    "execution": {
     "iopub.execute_input": "2024-09-14T08:27:47.815733Z",
     "iopub.status.busy": "2024-09-14T08:27:47.815214Z",
     "iopub.status.idle": "2024-09-14T08:27:47.857679Z",
     "shell.execute_reply": "2024-09-14T08:27:47.856984Z",
     "shell.execute_reply.started": "2024-09-14T08:27:47.815698Z"
    },
    "tags": []
   },
   "outputs": [],
   "source": [
    "train_images=tf.data.Dataset.list_files('/kaggle/input/face-dataset/aug_data/train/images/*.JPG',shuffle=False)\n",
    "train_images = train_images.map(load_image)\n",
    "train_images = train_images.map(lambda x: tf.image.resize(x, (120,120)))\n",
    "train_images = train_images.map(lambda x: x/255)\n"
   ]
  },
  {
   "cell_type": "code",
   "execution_count": 228,
   "id": "b9542f89",
   "metadata": {
    "execution": {
     "iopub.execute_input": "2024-09-14T08:27:48.147186Z",
     "iopub.status.busy": "2024-09-14T08:27:48.146639Z",
     "iopub.status.idle": "2024-09-14T08:27:48.782328Z",
     "shell.execute_reply": "2024-09-14T08:27:48.781550Z",
     "shell.execute_reply.started": "2024-09-14T08:27:48.147152Z"
    },
    "tags": []
   },
   "outputs": [],
   "source": [
    "val_images=tf.data.Dataset.list_files('/kaggle/input/face-dataset/aug_data/valid/images/*.JPG',shuffle=False)\n",
    "val_images = val_images.map(load_image)\n",
    "val_images = val_images.map(lambda x: tf.image.resize(x, (120,120)))\n",
    "val_images = val_images.map(lambda x: x/255)\n"
   ]
  },
  {
   "cell_type": "code",
   "execution_count": 229,
   "id": "805f119f",
   "metadata": {
    "execution": {
     "iopub.execute_input": "2024-09-14T08:27:48.784937Z",
     "iopub.status.busy": "2024-09-14T08:27:48.784215Z",
     "iopub.status.idle": "2024-09-14T08:27:48.948686Z",
     "shell.execute_reply": "2024-09-14T08:27:48.947758Z",
     "shell.execute_reply.started": "2024-09-14T08:27:48.784885Z"
    },
    "tags": []
   },
   "outputs": [],
   "source": [
    "for image in val_images:\n",
    "    if image.shape!=(120,120,3):\n",
    "        print('false')\n",
    "        break"
   ]
  },
  {
   "cell_type": "code",
   "execution_count": 230,
   "id": "80eff2c0",
   "metadata": {
    "execution": {
     "iopub.execute_input": "2024-09-14T08:27:48.950570Z",
     "iopub.status.busy": "2024-09-14T08:27:48.950281Z",
     "iopub.status.idle": "2024-09-14T08:27:48.956549Z",
     "shell.execute_reply": "2024-09-14T08:27:48.955690Z",
     "shell.execute_reply.started": "2024-09-14T08:27:48.950537Z"
    },
    "tags": []
   },
   "outputs": [],
   "source": [
    "def load_labels(x):\n",
    "    label_file = x.numpy().decode(\"utf-8\")\n",
    "    with open(label_file, \"r\") as f:\n",
    "        my_json_object = json.load(f)\n",
    "        label = my_json_object[\"class\"]\n",
    "        my_bounding = my_json_object['bbox']\n",
    "        \n",
    "        \n",
    "        \n",
    "        if label == \"Aaditya\":\n",
    "            one_value=[1,0]\n",
    "        elif label[0] == \"noone\":\n",
    "            one_value=[0,1]\n",
    "        \n",
    "        \n",
    "            \n",
    "            \n",
    "        return one_value,my_bounding\n",
    "\n",
    "            \n",
    "        \n",
    "        \n",
    "\n"
   ]
  },
  {
   "cell_type": "code",
   "execution_count": 231,
   "id": "e82949e3",
   "metadata": {
    "execution": {
     "iopub.execute_input": "2024-09-14T08:27:49.596967Z",
     "iopub.status.busy": "2024-09-14T08:27:49.596575Z",
     "iopub.status.idle": "2024-09-14T08:27:49.622176Z",
     "shell.execute_reply": "2024-09-14T08:27:49.621172Z",
     "shell.execute_reply.started": "2024-09-14T08:27:49.596929Z"
    },
    "tags": []
   },
   "outputs": [],
   "source": [
    "train_labels = tf.data.Dataset.list_files('/kaggle/input/face-dataset/aug_data/train/labels/*.json', shuffle=False)\n",
    "train_labels=train_labels.map(lambda x :tf.py_function(load_labels,[x],[tf.uint8,tf.float16]))"
   ]
  },
  {
   "cell_type": "code",
   "execution_count": 232,
   "id": "edbba577",
   "metadata": {
    "execution": {
     "iopub.execute_input": "2024-09-14T08:27:49.843457Z",
     "iopub.status.busy": "2024-09-14T08:27:49.843104Z",
     "iopub.status.idle": "2024-09-14T08:27:49.864530Z",
     "shell.execute_reply": "2024-09-14T08:27:49.863672Z",
     "shell.execute_reply.started": "2024-09-14T08:27:49.843421Z"
    },
    "tags": []
   },
   "outputs": [
    {
     "name": "stdout",
     "output_type": "stream",
     "text": [
      "(<tf.Tensor: shape=(2,), dtype=uint8, numpy=array([1, 0], dtype=uint8)>, <tf.Tensor: shape=(4,), dtype=float16, numpy=array([0.3782, 0.457 , 0.5776, 0.8315], dtype=float16)>)\n"
     ]
    }
   ],
   "source": [
    "for elements in train_labels.take(1):\n",
    "    print(elements)"
   ]
  },
  {
   "cell_type": "code",
   "execution_count": 233,
   "id": "190729a5",
   "metadata": {
    "execution": {
     "iopub.execute_input": "2024-09-14T08:27:50.024878Z",
     "iopub.status.busy": "2024-09-14T08:27:50.024539Z",
     "iopub.status.idle": "2024-09-14T08:27:50.179111Z",
     "shell.execute_reply": "2024-09-14T08:27:50.178324Z",
     "shell.execute_reply.started": "2024-09-14T08:27:50.024840Z"
    },
    "tags": []
   },
   "outputs": [],
   "source": [
    "val_labels = tf.data.Dataset.list_files('/kaggle/input/face-dataset/aug_data/valid/labels/*.json', shuffle=False)\n",
    "val_labels=val_labels.map(lambda x :tf.py_function(load_labels,[x],[tf.uint8,tf.float16]))"
   ]
  },
  {
   "cell_type": "code",
   "execution_count": 234,
   "id": "fc6b06f5",
   "metadata": {
    "execution": {
     "iopub.execute_input": "2024-09-14T08:27:50.223482Z",
     "iopub.status.busy": "2024-09-14T08:27:50.223163Z",
     "iopub.status.idle": "2024-09-14T08:27:50.229824Z",
     "shell.execute_reply": "2024-09-14T08:27:50.228745Z",
     "shell.execute_reply.started": "2024-09-14T08:27:50.223448Z"
    },
    "tags": []
   },
   "outputs": [
    {
     "data": {
      "text/plain": [
       "1440"
      ]
     },
     "execution_count": 234,
     "metadata": {},
     "output_type": "execute_result"
    }
   ],
   "source": [
    "len(train_images)"
   ]
  },
  {
   "cell_type": "code",
   "execution_count": 235,
   "id": "fc5fcb6c",
   "metadata": {
    "execution": {
     "iopub.execute_input": "2024-09-14T08:27:50.430666Z",
     "iopub.status.busy": "2024-09-14T08:27:50.430354Z",
     "iopub.status.idle": "2024-09-14T08:27:50.436855Z",
     "shell.execute_reply": "2024-09-14T08:27:50.435971Z",
     "shell.execute_reply.started": "2024-09-14T08:27:50.430632Z"
    },
    "tags": []
   },
   "outputs": [
    {
     "data": {
      "text/plain": [
       "1440"
      ]
     },
     "execution_count": 235,
     "metadata": {},
     "output_type": "execute_result"
    }
   ],
   "source": [
    "len(train_labels)"
   ]
  },
  {
   "cell_type": "code",
   "execution_count": 236,
   "id": "64a8e838",
   "metadata": {
    "execution": {
     "iopub.execute_input": "2024-09-14T08:27:50.631647Z",
     "iopub.status.busy": "2024-09-14T08:27:50.631309Z",
     "iopub.status.idle": "2024-09-14T08:27:50.637986Z",
     "shell.execute_reply": "2024-09-14T08:27:50.637077Z",
     "shell.execute_reply.started": "2024-09-14T08:27:50.631612Z"
    },
    "tags": []
   },
   "outputs": [
    {
     "data": {
      "text/plain": [
       "360"
      ]
     },
     "execution_count": 236,
     "metadata": {},
     "output_type": "execute_result"
    }
   ],
   "source": [
    "len(val_images)"
   ]
  },
  {
   "cell_type": "code",
   "execution_count": 237,
   "id": "2fb69e91",
   "metadata": {
    "execution": {
     "iopub.execute_input": "2024-09-14T08:27:50.806605Z",
     "iopub.status.busy": "2024-09-14T08:27:50.806311Z",
     "iopub.status.idle": "2024-09-14T08:27:50.812647Z",
     "shell.execute_reply": "2024-09-14T08:27:50.811755Z",
     "shell.execute_reply.started": "2024-09-14T08:27:50.806573Z"
    },
    "tags": []
   },
   "outputs": [
    {
     "data": {
      "text/plain": [
       "360"
      ]
     },
     "execution_count": 237,
     "metadata": {},
     "output_type": "execute_result"
    }
   ],
   "source": [
    "len(val_labels)"
   ]
  },
  {
   "cell_type": "code",
   "execution_count": null,
   "id": "86c2c620",
   "metadata": {},
   "outputs": [],
   "source": []
  },
  {
   "cell_type": "code",
   "execution_count": null,
   "id": "af6ea418",
   "metadata": {},
   "outputs": [],
   "source": []
  },
  {
   "cell_type": "code",
   "execution_count": 238,
   "id": "b3135c17",
   "metadata": {
    "execution": {
     "iopub.execute_input": "2024-09-14T08:27:51.378238Z",
     "iopub.status.busy": "2024-09-14T08:27:51.377673Z",
     "iopub.status.idle": "2024-09-14T08:27:51.390012Z",
     "shell.execute_reply": "2024-09-14T08:27:51.389269Z",
     "shell.execute_reply.started": "2024-09-14T08:27:51.378201Z"
    },
    "tags": []
   },
   "outputs": [],
   "source": [
    "train = tf.data.Dataset.zip((train_images, train_labels))\n",
    "train = train.shuffle(500)\n",
    "train = train.batch(16)\n",
    "train = train.prefetch(8)"
   ]
  },
  {
   "cell_type": "code",
   "execution_count": 239,
   "id": "3bcf3d19",
   "metadata": {
    "execution": {
     "iopub.execute_input": "2024-09-14T08:27:51.599083Z",
     "iopub.status.busy": "2024-09-14T08:27:51.598460Z",
     "iopub.status.idle": "2024-09-14T08:27:51.610250Z",
     "shell.execute_reply": "2024-09-14T08:27:51.609556Z",
     "shell.execute_reply.started": "2024-09-14T08:27:51.599048Z"
    },
    "tags": []
   },
   "outputs": [],
   "source": [
    "val = tf.data.Dataset.zip((val_images, val_labels))\n",
    "val = val.shuffle(500)\n",
    "val = val.batch(16)\n",
    "val = val.prefetch(8)"
   ]
  },
  {
   "cell_type": "code",
   "execution_count": 240,
   "id": "c99b5251",
   "metadata": {
    "execution": {
     "iopub.execute_input": "2024-09-14T08:27:51.819129Z",
     "iopub.status.busy": "2024-09-14T08:27:51.818852Z",
     "iopub.status.idle": "2024-09-14T08:27:52.344048Z",
     "shell.execute_reply": "2024-09-14T08:27:52.343152Z",
     "shell.execute_reply.started": "2024-09-14T08:27:51.819099Z"
    },
    "tags": []
   },
   "outputs": [],
   "source": [
    "import tensorflow as tf\n",
    "from tensorflow.keras.layers import Conv2D, MaxPool2D, Flatten, Dense, Dropout,InputLayer,BatchNormalization,GlobalMaxPooling2D\n",
    "from tensorflow.keras.applications import VGG16\n",
    "from tensorflow.keras.models import Sequential\n",
    "\n",
    "vgg_base_one = VGG16(include_top=False, input_shape=(120, 120, 3))\n",
    "\n",
    "# Freeze the VGG16 base model\n",
    "vgg_base_one.trainable = False\n",
    "\n",
    "\n",
    "\n",
    "vgg_base_two = VGG16(include_top=False, input_shape=(120, 120, 3))\n",
    "\n",
    "# Freeze the VGG16 base model\n",
    "vgg_base_two.trainable = False\n",
    "\n",
    "\n"
   ]
  },
  {
   "cell_type": "code",
   "execution_count": 241,
   "id": "c47d38c0",
   "metadata": {
    "execution": {
     "iopub.execute_input": "2024-09-14T08:27:52.345779Z",
     "iopub.status.busy": "2024-09-14T08:27:52.345450Z",
     "iopub.status.idle": "2024-09-14T08:27:52.353510Z",
     "shell.execute_reply": "2024-09-14T08:27:52.352651Z",
     "shell.execute_reply.started": "2024-09-14T08:27:52.345743Z"
    },
    "tags": []
   },
   "outputs": [],
   "source": [
    "def build_classifier():\n",
    "    model=Sequential()\n",
    "    model.add(InputLayer((120,120,3)))\n",
    "    model.add(vgg_base_one)\n",
    "    model.add(GlobalMaxPooling2D())\n",
    "    model.add(Dense(2048,activation=\"relu\"))\n",
    "    model.add(Dropout(0.5))\n",
    "    model.add(Dense(2,activation=\"softmax\"))\n",
    "    \n",
    "    return model\n",
    "    \n",
    "    "
   ]
  },
  {
   "cell_type": "code",
   "execution_count": 242,
   "id": "449cd927",
   "metadata": {
    "execution": {
     "iopub.execute_input": "2024-09-14T08:27:52.401104Z",
     "iopub.status.busy": "2024-09-14T08:27:52.400794Z",
     "iopub.status.idle": "2024-09-14T08:27:52.454643Z",
     "shell.execute_reply": "2024-09-14T08:27:52.453838Z",
     "shell.execute_reply.started": "2024-09-14T08:27:52.401072Z"
    },
    "tags": []
   },
   "outputs": [
    {
     "data": {
      "text/html": [
       "<pre style=\"white-space:pre;overflow-x:auto;line-height:normal;font-family:Menlo,'DejaVu Sans Mono',consolas,'Courier New',monospace\"><span style=\"font-weight: bold\">Model: \"sequential_13\"</span>\n",
       "</pre>\n"
      ],
      "text/plain": [
       "\u001b[1mModel: \"sequential_13\"\u001b[0m\n"
      ]
     },
     "metadata": {},
     "output_type": "display_data"
    },
    {
     "data": {
      "text/html": [
       "<pre style=\"white-space:pre;overflow-x:auto;line-height:normal;font-family:Menlo,'DejaVu Sans Mono',consolas,'Courier New',monospace\">┏━━━━━━━━━━━━━━━━━━━━━━━━━━━━━━━━━┳━━━━━━━━━━━━━━━━━━━━━━━━┳━━━━━━━━━━━━━━━┓\n",
       "┃<span style=\"font-weight: bold\"> Layer (type)                    </span>┃<span style=\"font-weight: bold\"> Output Shape           </span>┃<span style=\"font-weight: bold\">       Param # </span>┃\n",
       "┡━━━━━━━━━━━━━━━━━━━━━━━━━━━━━━━━━╇━━━━━━━━━━━━━━━━━━━━━━━━╇━━━━━━━━━━━━━━━┩\n",
       "│ vgg16 (<span style=\"color: #0087ff; text-decoration-color: #0087ff\">Functional</span>)              │ (<span style=\"color: #00d7ff; text-decoration-color: #00d7ff\">None</span>, <span style=\"color: #00af00; text-decoration-color: #00af00\">3</span>, <span style=\"color: #00af00; text-decoration-color: #00af00\">3</span>, <span style=\"color: #00af00; text-decoration-color: #00af00\">512</span>)      │    <span style=\"color: #00af00; text-decoration-color: #00af00\">14,714,688</span> │\n",
       "├─────────────────────────────────┼────────────────────────┼───────────────┤\n",
       "│ global_max_pooling2d_13         │ (<span style=\"color: #00d7ff; text-decoration-color: #00d7ff\">None</span>, <span style=\"color: #00af00; text-decoration-color: #00af00\">512</span>)            │             <span style=\"color: #00af00; text-decoration-color: #00af00\">0</span> │\n",
       "│ (<span style=\"color: #0087ff; text-decoration-color: #0087ff\">GlobalMaxPooling2D</span>)            │                        │               │\n",
       "├─────────────────────────────────┼────────────────────────┼───────────────┤\n",
       "│ dense_27 (<span style=\"color: #0087ff; text-decoration-color: #0087ff\">Dense</span>)                │ (<span style=\"color: #00d7ff; text-decoration-color: #00d7ff\">None</span>, <span style=\"color: #00af00; text-decoration-color: #00af00\">2048</span>)           │     <span style=\"color: #00af00; text-decoration-color: #00af00\">1,050,624</span> │\n",
       "├─────────────────────────────────┼────────────────────────┼───────────────┤\n",
       "│ dropout_14 (<span style=\"color: #0087ff; text-decoration-color: #0087ff\">Dropout</span>)            │ (<span style=\"color: #00d7ff; text-decoration-color: #00d7ff\">None</span>, <span style=\"color: #00af00; text-decoration-color: #00af00\">2048</span>)           │             <span style=\"color: #00af00; text-decoration-color: #00af00\">0</span> │\n",
       "├─────────────────────────────────┼────────────────────────┼───────────────┤\n",
       "│ dense_28 (<span style=\"color: #0087ff; text-decoration-color: #0087ff\">Dense</span>)                │ (<span style=\"color: #00d7ff; text-decoration-color: #00d7ff\">None</span>, <span style=\"color: #00af00; text-decoration-color: #00af00\">2</span>)              │         <span style=\"color: #00af00; text-decoration-color: #00af00\">4,098</span> │\n",
       "└─────────────────────────────────┴────────────────────────┴───────────────┘\n",
       "</pre>\n"
      ],
      "text/plain": [
       "┏━━━━━━━━━━━━━━━━━━━━━━━━━━━━━━━━━┳━━━━━━━━━━━━━━━━━━━━━━━━┳━━━━━━━━━━━━━━━┓\n",
       "┃\u001b[1m \u001b[0m\u001b[1mLayer (type)                   \u001b[0m\u001b[1m \u001b[0m┃\u001b[1m \u001b[0m\u001b[1mOutput Shape          \u001b[0m\u001b[1m \u001b[0m┃\u001b[1m \u001b[0m\u001b[1m      Param #\u001b[0m\u001b[1m \u001b[0m┃\n",
       "┡━━━━━━━━━━━━━━━━━━━━━━━━━━━━━━━━━╇━━━━━━━━━━━━━━━━━━━━━━━━╇━━━━━━━━━━━━━━━┩\n",
       "│ vgg16 (\u001b[38;5;33mFunctional\u001b[0m)              │ (\u001b[38;5;45mNone\u001b[0m, \u001b[38;5;34m3\u001b[0m, \u001b[38;5;34m3\u001b[0m, \u001b[38;5;34m512\u001b[0m)      │    \u001b[38;5;34m14,714,688\u001b[0m │\n",
       "├─────────────────────────────────┼────────────────────────┼───────────────┤\n",
       "│ global_max_pooling2d_13         │ (\u001b[38;5;45mNone\u001b[0m, \u001b[38;5;34m512\u001b[0m)            │             \u001b[38;5;34m0\u001b[0m │\n",
       "│ (\u001b[38;5;33mGlobalMaxPooling2D\u001b[0m)            │                        │               │\n",
       "├─────────────────────────────────┼────────────────────────┼───────────────┤\n",
       "│ dense_27 (\u001b[38;5;33mDense\u001b[0m)                │ (\u001b[38;5;45mNone\u001b[0m, \u001b[38;5;34m2048\u001b[0m)           │     \u001b[38;5;34m1,050,624\u001b[0m │\n",
       "├─────────────────────────────────┼────────────────────────┼───────────────┤\n",
       "│ dropout_14 (\u001b[38;5;33mDropout\u001b[0m)            │ (\u001b[38;5;45mNone\u001b[0m, \u001b[38;5;34m2048\u001b[0m)           │             \u001b[38;5;34m0\u001b[0m │\n",
       "├─────────────────────────────────┼────────────────────────┼───────────────┤\n",
       "│ dense_28 (\u001b[38;5;33mDense\u001b[0m)                │ (\u001b[38;5;45mNone\u001b[0m, \u001b[38;5;34m2\u001b[0m)              │         \u001b[38;5;34m4,098\u001b[0m │\n",
       "└─────────────────────────────────┴────────────────────────┴───────────────┘\n"
      ]
     },
     "metadata": {},
     "output_type": "display_data"
    },
    {
     "data": {
      "text/html": [
       "<pre style=\"white-space:pre;overflow-x:auto;line-height:normal;font-family:Menlo,'DejaVu Sans Mono',consolas,'Courier New',monospace\"><span style=\"font-weight: bold\"> Total params: </span><span style=\"color: #00af00; text-decoration-color: #00af00\">15,769,410</span> (60.16 MB)\n",
       "</pre>\n"
      ],
      "text/plain": [
       "\u001b[1m Total params: \u001b[0m\u001b[38;5;34m15,769,410\u001b[0m (60.16 MB)\n"
      ]
     },
     "metadata": {},
     "output_type": "display_data"
    },
    {
     "data": {
      "text/html": [
       "<pre style=\"white-space:pre;overflow-x:auto;line-height:normal;font-family:Menlo,'DejaVu Sans Mono',consolas,'Courier New',monospace\"><span style=\"font-weight: bold\"> Trainable params: </span><span style=\"color: #00af00; text-decoration-color: #00af00\">1,054,722</span> (4.02 MB)\n",
       "</pre>\n"
      ],
      "text/plain": [
       "\u001b[1m Trainable params: \u001b[0m\u001b[38;5;34m1,054,722\u001b[0m (4.02 MB)\n"
      ]
     },
     "metadata": {},
     "output_type": "display_data"
    },
    {
     "data": {
      "text/html": [
       "<pre style=\"white-space:pre;overflow-x:auto;line-height:normal;font-family:Menlo,'DejaVu Sans Mono',consolas,'Courier New',monospace\"><span style=\"font-weight: bold\"> Non-trainable params: </span><span style=\"color: #00af00; text-decoration-color: #00af00\">14,714,688</span> (56.13 MB)\n",
       "</pre>\n"
      ],
      "text/plain": [
       "\u001b[1m Non-trainable params: \u001b[0m\u001b[38;5;34m14,714,688\u001b[0m (56.13 MB)\n"
      ]
     },
     "metadata": {},
     "output_type": "display_data"
    }
   ],
   "source": [
    "classifier=build_classifier()\n",
    "classifier.summary()"
   ]
  },
  {
   "cell_type": "code",
   "execution_count": 254,
   "id": "eebd3317",
   "metadata": {
    "execution": {
     "iopub.execute_input": "2024-09-14T08:34:18.276635Z",
     "iopub.status.busy": "2024-09-14T08:34:18.275993Z",
     "iopub.status.idle": "2024-09-14T08:34:18.282406Z",
     "shell.execute_reply": "2024-09-14T08:34:18.281419Z",
     "shell.execute_reply.started": "2024-09-14T08:34:18.276597Z"
    },
    "tags": []
   },
   "outputs": [],
   "source": [
    "def build_bounding():\n",
    "    model=Sequential()\n",
    "    model.add(InputLayer((120,120,3)))\n",
    "    model.add(vgg_base_two)\n",
    "    model.add(Flatten())\n",
    "    model.add(Dense(256,activation=\"relu\"))\n",
    "    \n",
    "    model.add(Dense(128,activation=\"relu\"))\n",
    "    \n",
    "    model.add(Dense(4,activation=\"sigmoid\"))\n",
    "    \n",
    "    return model\n",
    "    \n",
    "    "
   ]
  },
  {
   "cell_type": "code",
   "execution_count": 255,
   "id": "ac6a0056",
   "metadata": {
    "execution": {
     "iopub.execute_input": "2024-09-14T08:34:19.209177Z",
     "iopub.status.busy": "2024-09-14T08:34:19.208766Z",
     "iopub.status.idle": "2024-09-14T08:34:19.269981Z",
     "shell.execute_reply": "2024-09-14T08:34:19.269126Z",
     "shell.execute_reply.started": "2024-09-14T08:34:19.209135Z"
    },
    "tags": []
   },
   "outputs": [
    {
     "data": {
      "text/html": [
       "<pre style=\"white-space:pre;overflow-x:auto;line-height:normal;font-family:Menlo,'DejaVu Sans Mono',consolas,'Courier New',monospace\"><span style=\"font-weight: bold\">Model: \"sequential_15\"</span>\n",
       "</pre>\n"
      ],
      "text/plain": [
       "\u001b[1mModel: \"sequential_15\"\u001b[0m\n"
      ]
     },
     "metadata": {},
     "output_type": "display_data"
    },
    {
     "data": {
      "text/html": [
       "<pre style=\"white-space:pre;overflow-x:auto;line-height:normal;font-family:Menlo,'DejaVu Sans Mono',consolas,'Courier New',monospace\">┏━━━━━━━━━━━━━━━━━━━━━━━━━━━━━━━━━┳━━━━━━━━━━━━━━━━━━━━━━━━┳━━━━━━━━━━━━━━━┓\n",
       "┃<span style=\"font-weight: bold\"> Layer (type)                    </span>┃<span style=\"font-weight: bold\"> Output Shape           </span>┃<span style=\"font-weight: bold\">       Param # </span>┃\n",
       "┡━━━━━━━━━━━━━━━━━━━━━━━━━━━━━━━━━╇━━━━━━━━━━━━━━━━━━━━━━━━╇━━━━━━━━━━━━━━━┩\n",
       "│ vgg16 (<span style=\"color: #0087ff; text-decoration-color: #0087ff\">Functional</span>)              │ (<span style=\"color: #00d7ff; text-decoration-color: #00d7ff\">None</span>, <span style=\"color: #00af00; text-decoration-color: #00af00\">3</span>, <span style=\"color: #00af00; text-decoration-color: #00af00\">3</span>, <span style=\"color: #00af00; text-decoration-color: #00af00\">512</span>)      │    <span style=\"color: #00af00; text-decoration-color: #00af00\">14,714,688</span> │\n",
       "├─────────────────────────────────┼────────────────────────┼───────────────┤\n",
       "│ flatten (<span style=\"color: #0087ff; text-decoration-color: #0087ff\">Flatten</span>)               │ (<span style=\"color: #00d7ff; text-decoration-color: #00d7ff\">None</span>, <span style=\"color: #00af00; text-decoration-color: #00af00\">4608</span>)           │             <span style=\"color: #00af00; text-decoration-color: #00af00\">0</span> │\n",
       "├─────────────────────────────────┼────────────────────────┼───────────────┤\n",
       "│ dense_32 (<span style=\"color: #0087ff; text-decoration-color: #0087ff\">Dense</span>)                │ (<span style=\"color: #00d7ff; text-decoration-color: #00d7ff\">None</span>, <span style=\"color: #00af00; text-decoration-color: #00af00\">256</span>)            │     <span style=\"color: #00af00; text-decoration-color: #00af00\">1,179,904</span> │\n",
       "├─────────────────────────────────┼────────────────────────┼───────────────┤\n",
       "│ dense_33 (<span style=\"color: #0087ff; text-decoration-color: #0087ff\">Dense</span>)                │ (<span style=\"color: #00d7ff; text-decoration-color: #00d7ff\">None</span>, <span style=\"color: #00af00; text-decoration-color: #00af00\">128</span>)            │        <span style=\"color: #00af00; text-decoration-color: #00af00\">32,896</span> │\n",
       "├─────────────────────────────────┼────────────────────────┼───────────────┤\n",
       "│ dense_34 (<span style=\"color: #0087ff; text-decoration-color: #0087ff\">Dense</span>)                │ (<span style=\"color: #00d7ff; text-decoration-color: #00d7ff\">None</span>, <span style=\"color: #00af00; text-decoration-color: #00af00\">4</span>)              │           <span style=\"color: #00af00; text-decoration-color: #00af00\">516</span> │\n",
       "└─────────────────────────────────┴────────────────────────┴───────────────┘\n",
       "</pre>\n"
      ],
      "text/plain": [
       "┏━━━━━━━━━━━━━━━━━━━━━━━━━━━━━━━━━┳━━━━━━━━━━━━━━━━━━━━━━━━┳━━━━━━━━━━━━━━━┓\n",
       "┃\u001b[1m \u001b[0m\u001b[1mLayer (type)                   \u001b[0m\u001b[1m \u001b[0m┃\u001b[1m \u001b[0m\u001b[1mOutput Shape          \u001b[0m\u001b[1m \u001b[0m┃\u001b[1m \u001b[0m\u001b[1m      Param #\u001b[0m\u001b[1m \u001b[0m┃\n",
       "┡━━━━━━━━━━━━━━━━━━━━━━━━━━━━━━━━━╇━━━━━━━━━━━━━━━━━━━━━━━━╇━━━━━━━━━━━━━━━┩\n",
       "│ vgg16 (\u001b[38;5;33mFunctional\u001b[0m)              │ (\u001b[38;5;45mNone\u001b[0m, \u001b[38;5;34m3\u001b[0m, \u001b[38;5;34m3\u001b[0m, \u001b[38;5;34m512\u001b[0m)      │    \u001b[38;5;34m14,714,688\u001b[0m │\n",
       "├─────────────────────────────────┼────────────────────────┼───────────────┤\n",
       "│ flatten (\u001b[38;5;33mFlatten\u001b[0m)               │ (\u001b[38;5;45mNone\u001b[0m, \u001b[38;5;34m4608\u001b[0m)           │             \u001b[38;5;34m0\u001b[0m │\n",
       "├─────────────────────────────────┼────────────────────────┼───────────────┤\n",
       "│ dense_32 (\u001b[38;5;33mDense\u001b[0m)                │ (\u001b[38;5;45mNone\u001b[0m, \u001b[38;5;34m256\u001b[0m)            │     \u001b[38;5;34m1,179,904\u001b[0m │\n",
       "├─────────────────────────────────┼────────────────────────┼───────────────┤\n",
       "│ dense_33 (\u001b[38;5;33mDense\u001b[0m)                │ (\u001b[38;5;45mNone\u001b[0m, \u001b[38;5;34m128\u001b[0m)            │        \u001b[38;5;34m32,896\u001b[0m │\n",
       "├─────────────────────────────────┼────────────────────────┼───────────────┤\n",
       "│ dense_34 (\u001b[38;5;33mDense\u001b[0m)                │ (\u001b[38;5;45mNone\u001b[0m, \u001b[38;5;34m4\u001b[0m)              │           \u001b[38;5;34m516\u001b[0m │\n",
       "└─────────────────────────────────┴────────────────────────┴───────────────┘\n"
      ]
     },
     "metadata": {},
     "output_type": "display_data"
    },
    {
     "data": {
      "text/html": [
       "<pre style=\"white-space:pre;overflow-x:auto;line-height:normal;font-family:Menlo,'DejaVu Sans Mono',consolas,'Courier New',monospace\"><span style=\"font-weight: bold\"> Total params: </span><span style=\"color: #00af00; text-decoration-color: #00af00\">15,928,004</span> (60.76 MB)\n",
       "</pre>\n"
      ],
      "text/plain": [
       "\u001b[1m Total params: \u001b[0m\u001b[38;5;34m15,928,004\u001b[0m (60.76 MB)\n"
      ]
     },
     "metadata": {},
     "output_type": "display_data"
    },
    {
     "data": {
      "text/html": [
       "<pre style=\"white-space:pre;overflow-x:auto;line-height:normal;font-family:Menlo,'DejaVu Sans Mono',consolas,'Courier New',monospace\"><span style=\"font-weight: bold\"> Trainable params: </span><span style=\"color: #00af00; text-decoration-color: #00af00\">1,213,316</span> (4.63 MB)\n",
       "</pre>\n"
      ],
      "text/plain": [
       "\u001b[1m Trainable params: \u001b[0m\u001b[38;5;34m1,213,316\u001b[0m (4.63 MB)\n"
      ]
     },
     "metadata": {},
     "output_type": "display_data"
    },
    {
     "data": {
      "text/html": [
       "<pre style=\"white-space:pre;overflow-x:auto;line-height:normal;font-family:Menlo,'DejaVu Sans Mono',consolas,'Courier New',monospace\"><span style=\"font-weight: bold\"> Non-trainable params: </span><span style=\"color: #00af00; text-decoration-color: #00af00\">14,714,688</span> (56.13 MB)\n",
       "</pre>\n"
      ],
      "text/plain": [
       "\u001b[1m Non-trainable params: \u001b[0m\u001b[38;5;34m14,714,688\u001b[0m (56.13 MB)\n"
      ]
     },
     "metadata": {},
     "output_type": "display_data"
    }
   ],
   "source": [
    "bounding=build_bounding()\n",
    "bounding.summary()"
   ]
  },
  {
   "cell_type": "code",
   "execution_count": 256,
   "id": "cacb8c56",
   "metadata": {
    "execution": {
     "iopub.execute_input": "2024-09-14T08:34:20.322196Z",
     "iopub.status.busy": "2024-09-14T08:34:20.321713Z",
     "iopub.status.idle": "2024-09-14T08:34:20.327381Z",
     "shell.execute_reply": "2024-09-14T08:34:20.326339Z",
     "shell.execute_reply.started": "2024-09-14T08:34:20.322151Z"
    },
    "tags": []
   },
   "outputs": [],
   "source": [
    "from tensorflow.keras.optimizers import Adam,SGD\n",
    "from tensorflow.keras.losses import CategoricalCrossentropy\n",
    "from tensorflow.keras.metrics import Accuracy\n",
    "\n",
    "\n"
   ]
  },
  {
   "cell_type": "code",
   "execution_count": 257,
   "id": "5202351c",
   "metadata": {
    "execution": {
     "iopub.execute_input": "2024-09-14T08:34:23.123916Z",
     "iopub.status.busy": "2024-09-14T08:34:23.123516Z",
     "iopub.status.idle": "2024-09-14T08:34:23.130451Z",
     "shell.execute_reply": "2024-09-14T08:34:23.129329Z",
     "shell.execute_reply.started": "2024-09-14T08:34:23.123876Z"
    }
   },
   "outputs": [],
   "source": [
    "def localization_loss(y_true, yhat):            \n",
    "    starting_coord_loss = tf.reduce_sum(tf.square(y_true[:,:2] - yhat[:,:2]))\n",
    "                  \n",
    "    h_true = y_true[:,3] - y_true[:,1] \n",
    "    w_true = y_true[:,2] - y_true[:,0] \n",
    "\n",
    "    h_pred = yhat[:,3] - yhat[:,1] \n",
    "    w_pred = yhat[:,2] - yhat[:,0] \n",
    "    \n",
    "    height_width_loss = tf.reduce_sum(tf.square(w_true - w_pred) + tf.square(h_true-h_pred))\n",
    "    \n",
    "    return starting_coord_loss + height_width_loss"
   ]
  },
  {
   "cell_type": "code",
   "execution_count": 258,
   "id": "00bd0342",
   "metadata": {
    "execution": {
     "iopub.execute_input": "2024-09-14T08:34:23.905443Z",
     "iopub.status.busy": "2024-09-14T08:34:23.904703Z",
     "iopub.status.idle": "2024-09-14T08:34:23.916753Z",
     "shell.execute_reply": "2024-09-14T08:34:23.915760Z",
     "shell.execute_reply.started": "2024-09-14T08:34:23.905401Z"
    },
    "tags": []
   },
   "outputs": [],
   "source": [
    "#class implementation\n",
    "from tensorflow.keras import Model\n",
    "class facerec(Model):\n",
    "    def __init__(self, classifier, bounding, *args, **kwargs):\n",
    "        # Pass through args and kwargs to base class\n",
    "        super().__init__(*args, **kwargs)\n",
    "\n",
    "        self.classifier = classifier\n",
    "        self.bounding = bounding\n",
    "\n",
    "    def compile(self, c_opt, b_opt, c_loss, b_loss, *args, **kwargs):\n",
    "        super().compile(*args, **kwargs)\n",
    "\n",
    "        self.c_opt = c_opt\n",
    "        self.b_opt = b_opt\n",
    "        self.c_loss = c_loss\n",
    "        self.b_loss = b_loss\n",
    "        self.classifier_metric = tf.keras.metrics.CategoricalAccuracy(name='accuracy')\n",
    "        \n",
    "\n",
    "    def train_step(self,batches):\n",
    "        images,y=batches\n",
    "        my_class=y[0]\n",
    "        my_bounding=y[1]\n",
    "        with tf.GradientTape() as c_tape:\n",
    "            classifier_output=self.classifier(images,training=True)\n",
    "            classifier_loss=self.c_loss(my_class,classifier_output)\n",
    "            \n",
    "        cgrad = c_tape.gradient(classifier_loss, self.classifier.trainable_variables)\n",
    "        self.c_opt.apply_gradients(zip(cgrad, self.classifier.trainable_variables))\n",
    "        \n",
    "        \n",
    "        with tf.GradientTape() as b_tape:\n",
    "            bounding_output=self.bounding(images,training=True)\n",
    "            bounding_loss=self.b_loss(tf.cast(my_bounding, tf.float32),bounding_output)\n",
    "            \n",
    "            \n",
    "        bgrad = b_tape.gradient(bounding_loss, self.bounding.trainable_variables)\n",
    "        self.b_opt.apply_gradients(zip(bgrad, self.bounding.trainable_variables))\n",
    "        \n",
    "        \n",
    "        self.classifier_metric.update_state(my_class, classifier_output)\n",
    "        classifier_acc = self.classifier_metric.result()\n",
    "        \n",
    "        \n",
    "        \n",
    "        \n",
    "\n",
    "        \n",
    "        return {\"classifier_loss\": classifier_loss, \"bounding_loss\": bounding_loss,\"total_loss\":classifier_loss+bounding_loss,\"Accuracy\":classifier_acc}\n",
    "    \n",
    "            \n",
    "        \n",
    "    "
   ]
  },
  {
   "cell_type": "code",
   "execution_count": 248,
   "id": "cc6df2bd",
   "metadata": {
    "execution": {
     "iopub.execute_input": "2024-09-14T08:27:54.209536Z",
     "iopub.status.busy": "2024-09-14T08:27:54.208686Z",
     "iopub.status.idle": "2024-09-14T08:27:54.214079Z",
     "shell.execute_reply": "2024-09-14T08:27:54.213184Z",
     "shell.execute_reply.started": "2024-09-14T08:27:54.209492Z"
    }
   },
   "outputs": [],
   "source": [
    "batches_per_epoch = len(train)\n",
    "lr_decay = (1./0.75 -1)/batches_per_epoch"
   ]
  },
  {
   "cell_type": "code",
   "execution_count": 259,
   "id": "da451868",
   "metadata": {
    "execution": {
     "iopub.execute_input": "2024-09-14T08:34:32.232416Z",
     "iopub.status.busy": "2024-09-14T08:34:32.232063Z",
     "iopub.status.idle": "2024-09-14T08:34:32.240789Z",
     "shell.execute_reply": "2024-09-14T08:34:32.240026Z",
     "shell.execute_reply.started": "2024-09-14T08:34:32.232382Z"
    },
    "tags": []
   },
   "outputs": [],
   "source": [
    "optimizer1 = Adam(learning_rate=0.0001)\n",
    "optimizer2 = Adam()"
   ]
  },
  {
   "cell_type": "code",
   "execution_count": 260,
   "id": "bf67f76f",
   "metadata": {
    "execution": {
     "iopub.execute_input": "2024-09-14T08:34:34.632985Z",
     "iopub.status.busy": "2024-09-14T08:34:34.632601Z",
     "iopub.status.idle": "2024-09-14T08:34:34.637527Z",
     "shell.execute_reply": "2024-09-14T08:34:34.636602Z",
     "shell.execute_reply.started": "2024-09-14T08:34:34.632946Z"
    },
    "tags": []
   },
   "outputs": [],
   "source": [
    "from tensorflow.keras.optimizers import Adam\n",
    "from tensorflow.keras.losses import CategoricalCrossentropy\n",
    "from tensorflow.keras.metrics import Accuracy\n",
    "\n",
    "\n"
   ]
  },
  {
   "cell_type": "code",
   "execution_count": 261,
   "id": "235a65fc",
   "metadata": {
    "execution": {
     "iopub.execute_input": "2024-09-14T08:34:36.304469Z",
     "iopub.status.busy": "2024-09-14T08:34:36.304091Z",
     "iopub.status.idle": "2024-09-14T08:34:36.310328Z",
     "shell.execute_reply": "2024-09-14T08:34:36.309199Z",
     "shell.execute_reply.started": "2024-09-14T08:34:36.304430Z"
    },
    "tags": []
   },
   "outputs": [],
   "source": [
    "model1=facerec(classifier,bounding)"
   ]
  },
  {
   "cell_type": "code",
   "execution_count": 262,
   "id": "0979027c",
   "metadata": {
    "execution": {
     "iopub.execute_input": "2024-09-14T08:34:36.718627Z",
     "iopub.status.busy": "2024-09-14T08:34:36.717761Z",
     "iopub.status.idle": "2024-09-14T08:34:36.728882Z",
     "shell.execute_reply": "2024-09-14T08:34:36.728012Z",
     "shell.execute_reply.started": "2024-09-14T08:34:36.718586Z"
    },
    "tags": []
   },
   "outputs": [],
   "source": [
    "model1.compile(optimizer1,optimizer2,CategoricalCrossentropy(),localization_loss,run_eagerly=True)"
   ]
  },
  {
   "cell_type": "code",
   "execution_count": null,
   "id": "190a7fb6",
   "metadata": {},
   "outputs": [],
   "source": []
  },
  {
   "cell_type": "code",
   "execution_count": null,
   "id": "092dad68",
   "metadata": {},
   "outputs": [],
   "source": []
  },
  {
   "cell_type": "code",
   "execution_count": 263,
   "id": "e6042233",
   "metadata": {
    "execution": {
     "iopub.execute_input": "2024-09-14T08:34:38.707342Z",
     "iopub.status.busy": "2024-09-14T08:34:38.706479Z",
     "iopub.status.idle": "2024-09-14T09:44:32.066238Z",
     "shell.execute_reply": "2024-09-14T09:44:32.065300Z",
     "shell.execute_reply.started": "2024-09-14T08:34:38.707286Z"
    },
    "tags": []
   },
   "outputs": [
    {
     "name": "stdout",
     "output_type": "stream",
     "text": [
      "Epoch 1/200\n",
      "\u001b[1m90/90\u001b[0m \u001b[32m━━━━━━━━━━━━━━━━━━━━\u001b[0m\u001b[37m\u001b[0m \u001b[1m21s\u001b[0m 221ms/step - Accuracy: 0.9866 - bounding_loss: 0.9265 - classifier_loss: 0.0274 - total_loss: 0.9538\n",
      "Epoch 2/200\n",
      "\u001b[1m90/90\u001b[0m \u001b[32m━━━━━━━━━━━━━━━━━━━━\u001b[0m\u001b[37m\u001b[0m \u001b[1m21s\u001b[0m 221ms/step - Accuracy: 0.9946 - bounding_loss: 0.2641 - classifier_loss: 0.0160 - total_loss: 0.2801\n",
      "Epoch 3/200\n",
      "\u001b[1m90/90\u001b[0m \u001b[32m━━━━━━━━━━━━━━━━━━━━\u001b[0m\u001b[37m\u001b[0m \u001b[1m21s\u001b[0m 219ms/step - Accuracy: 0.9822 - bounding_loss: 0.1451 - classifier_loss: 0.0186 - total_loss: 0.1637\n",
      "Epoch 4/200\n",
      "\u001b[1m90/90\u001b[0m \u001b[32m━━━━━━━━━━━━━━━━━━━━\u001b[0m\u001b[37m\u001b[0m \u001b[1m21s\u001b[0m 218ms/step - Accuracy: 0.9906 - bounding_loss: 0.0958 - classifier_loss: 0.0150 - total_loss: 0.1108\n",
      "Epoch 5/200\n",
      "\u001b[1m90/90\u001b[0m \u001b[32m━━━━━━━━━━━━━━━━━━━━\u001b[0m\u001b[37m\u001b[0m \u001b[1m21s\u001b[0m 218ms/step - Accuracy: 0.9976 - bounding_loss: 0.0569 - classifier_loss: 0.0115 - total_loss: 0.0684\n",
      "Epoch 6/200\n",
      "\u001b[1m90/90\u001b[0m \u001b[32m━━━━━━━━━━━━━━━━━━━━\u001b[0m\u001b[37m\u001b[0m \u001b[1m21s\u001b[0m 219ms/step - Accuracy: 0.9953 - bounding_loss: 0.0679 - classifier_loss: 0.0117 - total_loss: 0.0796\n",
      "Epoch 7/200\n",
      "\u001b[1m90/90\u001b[0m \u001b[32m━━━━━━━━━━━━━━━━━━━━\u001b[0m\u001b[37m\u001b[0m \u001b[1m21s\u001b[0m 219ms/step - Accuracy: 0.9977 - bounding_loss: 0.1139 - classifier_loss: 0.0110 - total_loss: 0.1249\n",
      "Epoch 8/200\n",
      "\u001b[1m90/90\u001b[0m \u001b[32m━━━━━━━━━━━━━━━━━━━━\u001b[0m\u001b[37m\u001b[0m \u001b[1m21s\u001b[0m 218ms/step - Accuracy: 0.9967 - bounding_loss: 0.0442 - classifier_loss: 0.0108 - total_loss: 0.0550\n",
      "Epoch 9/200\n",
      "\u001b[1m90/90\u001b[0m \u001b[32m━━━━━━━━━━━━━━━━━━━━\u001b[0m\u001b[37m\u001b[0m \u001b[1m21s\u001b[0m 219ms/step - Accuracy: 0.9925 - bounding_loss: 0.0355 - classifier_loss: 0.0081 - total_loss: 0.0435\n",
      "Epoch 10/200\n",
      "\u001b[1m90/90\u001b[0m \u001b[32m━━━━━━━━━━━━━━━━━━━━\u001b[0m\u001b[37m\u001b[0m \u001b[1m21s\u001b[0m 220ms/step - Accuracy: 0.9983 - bounding_loss: 0.0362 - classifier_loss: 0.0083 - total_loss: 0.0445\n",
      "Epoch 11/200\n",
      "\u001b[1m90/90\u001b[0m \u001b[32m━━━━━━━━━━━━━━━━━━━━\u001b[0m\u001b[37m\u001b[0m \u001b[1m21s\u001b[0m 219ms/step - Accuracy: 0.9969 - bounding_loss: 0.0354 - classifier_loss: 0.0076 - total_loss: 0.0431\n",
      "Epoch 12/200\n",
      "\u001b[1m90/90\u001b[0m \u001b[32m━━━━━━━━━━━━━━━━━━━━\u001b[0m\u001b[37m\u001b[0m \u001b[1m21s\u001b[0m 219ms/step - Accuracy: 0.9939 - bounding_loss: 0.0214 - classifier_loss: 0.0075 - total_loss: 0.0289\n",
      "Epoch 13/200\n",
      "\u001b[1m90/90\u001b[0m \u001b[32m━━━━━━━━━━━━━━━━━━━━\u001b[0m\u001b[37m\u001b[0m \u001b[1m21s\u001b[0m 219ms/step - Accuracy: 0.9973 - bounding_loss: 0.0187 - classifier_loss: 0.0067 - total_loss: 0.0254\n",
      "Epoch 14/200\n",
      "\u001b[1m90/90\u001b[0m \u001b[32m━━━━━━━━━━━━━━━━━━━━\u001b[0m\u001b[37m\u001b[0m \u001b[1m21s\u001b[0m 219ms/step - Accuracy: 0.9881 - bounding_loss: 0.0375 - classifier_loss: 0.0099 - total_loss: 0.0474\n",
      "Epoch 15/200\n",
      "\u001b[1m90/90\u001b[0m \u001b[32m━━━━━━━━━━━━━━━━━━━━\u001b[0m\u001b[37m\u001b[0m \u001b[1m21s\u001b[0m 219ms/step - Accuracy: 0.9966 - bounding_loss: 0.0274 - classifier_loss: 0.0064 - total_loss: 0.0338\n",
      "Epoch 16/200\n",
      "\u001b[1m90/90\u001b[0m \u001b[32m━━━━━━━━━━━━━━━━━━━━\u001b[0m\u001b[37m\u001b[0m \u001b[1m21s\u001b[0m 219ms/step - Accuracy: 0.9983 - bounding_loss: 0.0155 - classifier_loss: 0.0062 - total_loss: 0.0217\n",
      "Epoch 17/200\n",
      "\u001b[1m90/90\u001b[0m \u001b[32m━━━━━━━━━━━━━━━━━━━━\u001b[0m\u001b[37m\u001b[0m \u001b[1m21s\u001b[0m 218ms/step - Accuracy: 0.9961 - bounding_loss: 0.0208 - classifier_loss: 0.0080 - total_loss: 0.0288\n",
      "Epoch 18/200\n",
      "\u001b[1m90/90\u001b[0m \u001b[32m━━━━━━━━━━━━━━━━━━━━\u001b[0m\u001b[37m\u001b[0m \u001b[1m21s\u001b[0m 219ms/step - Accuracy: 0.9966 - bounding_loss: 0.0125 - classifier_loss: 0.0059 - total_loss: 0.0184\n",
      "Epoch 19/200\n",
      "\u001b[1m90/90\u001b[0m \u001b[32m━━━━━━━━━━━━━━━━━━━━\u001b[0m\u001b[37m\u001b[0m \u001b[1m21s\u001b[0m 219ms/step - Accuracy: 0.9955 - bounding_loss: 0.0084 - classifier_loss: 0.0050 - total_loss: 0.0134\n",
      "Epoch 20/200\n",
      "\u001b[1m90/90\u001b[0m \u001b[32m━━━━━━━━━━━━━━━━━━━━\u001b[0m\u001b[37m\u001b[0m \u001b[1m21s\u001b[0m 218ms/step - Accuracy: 0.9972 - bounding_loss: 0.0067 - classifier_loss: 0.0058 - total_loss: 0.0125\n",
      "Epoch 21/200\n",
      "\u001b[1m90/90\u001b[0m \u001b[32m━━━━━━━━━━━━━━━━━━━━\u001b[0m\u001b[37m\u001b[0m \u001b[1m21s\u001b[0m 219ms/step - Accuracy: 0.9984 - bounding_loss: 0.0298 - classifier_loss: 0.0037 - total_loss: 0.0335\n",
      "Epoch 22/200\n",
      "\u001b[1m90/90\u001b[0m \u001b[32m━━━━━━━━━━━━━━━━━━━━\u001b[0m\u001b[37m\u001b[0m \u001b[1m21s\u001b[0m 219ms/step - Accuracy: 0.9958 - bounding_loss: 0.0237 - classifier_loss: 0.0066 - total_loss: 0.0303\n",
      "Epoch 23/200\n",
      "\u001b[1m90/90\u001b[0m \u001b[32m━━━━━━━━━━━━━━━━━━━━\u001b[0m\u001b[37m\u001b[0m \u001b[1m21s\u001b[0m 219ms/step - Accuracy: 0.9958 - bounding_loss: 0.0084 - classifier_loss: 0.0063 - total_loss: 0.0147\n",
      "Epoch 24/200\n",
      "\u001b[1m90/90\u001b[0m \u001b[32m━━━━━━━━━━━━━━━━━━━━\u001b[0m\u001b[37m\u001b[0m \u001b[1m21s\u001b[0m 219ms/step - Accuracy: 0.9985 - bounding_loss: 0.0261 - classifier_loss: 0.0040 - total_loss: 0.0301\n",
      "Epoch 25/200\n",
      "\u001b[1m90/90\u001b[0m \u001b[32m━━━━━━━━━━━━━━━━━━━━\u001b[0m\u001b[37m\u001b[0m \u001b[1m21s\u001b[0m 220ms/step - Accuracy: 0.9998 - bounding_loss: 0.0158 - classifier_loss: 0.0042 - total_loss: 0.0200\n",
      "Epoch 26/200\n",
      "\u001b[1m90/90\u001b[0m \u001b[32m━━━━━━━━━━━━━━━━━━━━\u001b[0m\u001b[37m\u001b[0m \u001b[1m21s\u001b[0m 218ms/step - Accuracy: 0.9983 - bounding_loss: 0.0198 - classifier_loss: 0.0053 - total_loss: 0.0252\n",
      "Epoch 27/200\n",
      "\u001b[1m90/90\u001b[0m \u001b[32m━━━━━━━━━━━━━━━━━━━━\u001b[0m\u001b[37m\u001b[0m \u001b[1m21s\u001b[0m 219ms/step - Accuracy: 0.9938 - bounding_loss: 0.0069 - classifier_loss: 0.0070 - total_loss: 0.0139\n",
      "Epoch 28/200\n",
      "\u001b[1m90/90\u001b[0m \u001b[32m━━━━━━━━━━━━━━━━━━━━\u001b[0m\u001b[37m\u001b[0m \u001b[1m21s\u001b[0m 220ms/step - Accuracy: 0.9994 - bounding_loss: 0.0208 - classifier_loss: 0.0041 - total_loss: 0.0249\n",
      "Epoch 29/200\n",
      "\u001b[1m90/90\u001b[0m \u001b[32m━━━━━━━━━━━━━━━━━━━━\u001b[0m\u001b[37m\u001b[0m \u001b[1m21s\u001b[0m 219ms/step - Accuracy: 0.9966 - bounding_loss: 0.0183 - classifier_loss: 0.0058 - total_loss: 0.0241\n",
      "Epoch 30/200\n",
      "\u001b[1m90/90\u001b[0m \u001b[32m━━━━━━━━━━━━━━━━━━━━\u001b[0m\u001b[37m\u001b[0m \u001b[1m21s\u001b[0m 220ms/step - Accuracy: 0.9987 - bounding_loss: 0.0163 - classifier_loss: 0.0052 - total_loss: 0.0215\n",
      "Epoch 31/200\n",
      "\u001b[1m90/90\u001b[0m \u001b[32m━━━━━━━━━━━━━━━━━━━━\u001b[0m\u001b[37m\u001b[0m \u001b[1m21s\u001b[0m 219ms/step - Accuracy: 0.9963 - bounding_loss: 0.0099 - classifier_loss: 0.0034 - total_loss: 0.0133\n",
      "Epoch 32/200\n",
      "\u001b[1m90/90\u001b[0m \u001b[32m━━━━━━━━━━━━━━━━━━━━\u001b[0m\u001b[37m\u001b[0m \u001b[1m21s\u001b[0m 218ms/step - Accuracy: 0.9990 - bounding_loss: 0.0116 - classifier_loss: 0.0036 - total_loss: 0.0152\n",
      "Epoch 33/200\n",
      "\u001b[1m90/90\u001b[0m \u001b[32m━━━━━━━━━━━━━━━━━━━━\u001b[0m\u001b[37m\u001b[0m \u001b[1m21s\u001b[0m 219ms/step - Accuracy: 0.9947 - bounding_loss: 0.0053 - classifier_loss: 0.0041 - total_loss: 0.0094\n",
      "Epoch 34/200\n",
      "\u001b[1m90/90\u001b[0m \u001b[32m━━━━━━━━━━━━━━━━━━━━\u001b[0m\u001b[37m\u001b[0m \u001b[1m21s\u001b[0m 219ms/step - Accuracy: 0.9981 - bounding_loss: 0.0043 - classifier_loss: 0.0033 - total_loss: 0.0076\n",
      "Epoch 35/200\n",
      "\u001b[1m90/90\u001b[0m \u001b[32m━━━━━━━━━━━━━━━━━━━━\u001b[0m\u001b[37m\u001b[0m \u001b[1m21s\u001b[0m 218ms/step - Accuracy: 0.9964 - bounding_loss: 0.0273 - classifier_loss: 0.0050 - total_loss: 0.0323\n",
      "Epoch 36/200\n",
      "\u001b[1m90/90\u001b[0m \u001b[32m━━━━━━━━━━━━━━━━━━━━\u001b[0m\u001b[37m\u001b[0m \u001b[1m21s\u001b[0m 219ms/step - Accuracy: 0.9993 - bounding_loss: 0.0175 - classifier_loss: 0.0034 - total_loss: 0.0209\n",
      "Epoch 37/200\n",
      "\u001b[1m90/90\u001b[0m \u001b[32m━━━━━━━━━━━━━━━━━━━━\u001b[0m\u001b[37m\u001b[0m \u001b[1m21s\u001b[0m 218ms/step - Accuracy: 0.9985 - bounding_loss: 0.0093 - classifier_loss: 0.0026 - total_loss: 0.0119\n",
      "Epoch 38/200\n",
      "\u001b[1m90/90\u001b[0m \u001b[32m━━━━━━━━━━━━━━━━━━━━\u001b[0m\u001b[37m\u001b[0m \u001b[1m21s\u001b[0m 219ms/step - Accuracy: 0.9970 - bounding_loss: 0.0120 - classifier_loss: 0.0036 - total_loss: 0.0155\n",
      "Epoch 39/200\n",
      "\u001b[1m90/90\u001b[0m \u001b[32m━━━━━━━━━━━━━━━━━━━━\u001b[0m\u001b[37m\u001b[0m \u001b[1m21s\u001b[0m 219ms/step - Accuracy: 0.9976 - bounding_loss: 0.0117 - classifier_loss: 0.0047 - total_loss: 0.0163\n",
      "Epoch 40/200\n",
      "\u001b[1m90/90\u001b[0m \u001b[32m━━━━━━━━━━━━━━━━━━━━\u001b[0m\u001b[37m\u001b[0m \u001b[1m21s\u001b[0m 219ms/step - Accuracy: 0.9995 - bounding_loss: 0.0067 - classifier_loss: 0.0033 - total_loss: 0.0100\n",
      "Epoch 41/200\n",
      "\u001b[1m90/90\u001b[0m \u001b[32m━━━━━━━━━━━━━━━━━━━━\u001b[0m\u001b[37m\u001b[0m \u001b[1m21s\u001b[0m 219ms/step - Accuracy: 1.0000 - bounding_loss: 0.0097 - classifier_loss: 0.0020 - total_loss: 0.0117\n",
      "Epoch 42/200\n",
      "\u001b[1m90/90\u001b[0m \u001b[32m━━━━━━━━━━━━━━━━━━━━\u001b[0m\u001b[37m\u001b[0m \u001b[1m21s\u001b[0m 220ms/step - Accuracy: 0.9995 - bounding_loss: 0.0246 - classifier_loss: 0.0023 - total_loss: 0.0269\n",
      "Epoch 43/200\n",
      "\u001b[1m90/90\u001b[0m \u001b[32m━━━━━━━━━━━━━━━━━━━━\u001b[0m\u001b[37m\u001b[0m \u001b[1m21s\u001b[0m 218ms/step - Accuracy: 0.9963 - bounding_loss: 0.0099 - classifier_loss: 0.0037 - total_loss: 0.0136\n",
      "Epoch 44/200\n",
      "\u001b[1m90/90\u001b[0m \u001b[32m━━━━━━━━━━━━━━━━━━━━\u001b[0m\u001b[37m\u001b[0m \u001b[1m21s\u001b[0m 219ms/step - Accuracy: 0.9997 - bounding_loss: 0.0205 - classifier_loss: 0.0027 - total_loss: 0.0232\n",
      "Epoch 45/200\n",
      "\u001b[1m90/90\u001b[0m \u001b[32m━━━━━━━━━━━━━━━━━━━━\u001b[0m\u001b[37m\u001b[0m \u001b[1m21s\u001b[0m 219ms/step - Accuracy: 0.9991 - bounding_loss: 0.0127 - classifier_loss: 0.0027 - total_loss: 0.0155\n",
      "Epoch 46/200\n",
      "\u001b[1m90/90\u001b[0m \u001b[32m━━━━━━━━━━━━━━━━━━━━\u001b[0m\u001b[37m\u001b[0m \u001b[1m21s\u001b[0m 219ms/step - Accuracy: 1.0000 - bounding_loss: 0.0151 - classifier_loss: 0.0021 - total_loss: 0.0173\n",
      "Epoch 47/200\n",
      "\u001b[1m90/90\u001b[0m \u001b[32m━━━━━━━━━━━━━━━━━━━━\u001b[0m\u001b[37m\u001b[0m \u001b[1m21s\u001b[0m 219ms/step - Accuracy: 1.0000 - bounding_loss: 0.0065 - classifier_loss: 0.0017 - total_loss: 0.0081\n",
      "Epoch 48/200\n",
      "\u001b[1m90/90\u001b[0m \u001b[32m━━━━━━━━━━━━━━━━━━━━\u001b[0m\u001b[37m\u001b[0m \u001b[1m21s\u001b[0m 220ms/step - Accuracy: 1.0000 - bounding_loss: 0.0042 - classifier_loss: 0.0014 - total_loss: 0.0056\n",
      "Epoch 49/200\n",
      "\u001b[1m90/90\u001b[0m \u001b[32m━━━━━━━━━━━━━━━━━━━━\u001b[0m\u001b[37m\u001b[0m \u001b[1m21s\u001b[0m 219ms/step - Accuracy: 0.9991 - bounding_loss: 0.0040 - classifier_loss: 0.0032 - total_loss: 0.0072\n",
      "Epoch 50/200\n",
      "\u001b[1m90/90\u001b[0m \u001b[32m━━━━━━━━━━━━━━━━━━━━\u001b[0m\u001b[37m\u001b[0m \u001b[1m21s\u001b[0m 220ms/step - Accuracy: 0.9977 - bounding_loss: 0.0031 - classifier_loss: 0.0035 - total_loss: 0.0066\n",
      "Epoch 51/200\n",
      "\u001b[1m90/90\u001b[0m \u001b[32m━━━━━━━━━━━━━━━━━━━━\u001b[0m\u001b[37m\u001b[0m \u001b[1m21s\u001b[0m 219ms/step - Accuracy: 0.9965 - bounding_loss: 0.0034 - classifier_loss: 0.0028 - total_loss: 0.0062\n",
      "Epoch 52/200\n",
      "\u001b[1m90/90\u001b[0m \u001b[32m━━━━━━━━━━━━━━━━━━━━\u001b[0m\u001b[37m\u001b[0m \u001b[1m21s\u001b[0m 219ms/step - Accuracy: 0.9997 - bounding_loss: 0.0030 - classifier_loss: 0.0025 - total_loss: 0.0055\n",
      "Epoch 53/200\n",
      "\u001b[1m90/90\u001b[0m \u001b[32m━━━━━━━━━━━━━━━━━━━━\u001b[0m\u001b[37m\u001b[0m \u001b[1m21s\u001b[0m 220ms/step - Accuracy: 0.9978 - bounding_loss: 0.0024 - classifier_loss: 0.0020 - total_loss: 0.0044\n",
      "Epoch 54/200\n",
      "\u001b[1m90/90\u001b[0m \u001b[32m━━━━━━━━━━━━━━━━━━━━\u001b[0m\u001b[37m\u001b[0m \u001b[1m21s\u001b[0m 219ms/step - Accuracy: 0.9989 - bounding_loss: 0.0026 - classifier_loss: 0.0016 - total_loss: 0.0042\n",
      "Epoch 55/200\n",
      "\u001b[1m90/90\u001b[0m \u001b[32m━━━━━━━━━━━━━━━━━━━━\u001b[0m\u001b[37m\u001b[0m \u001b[1m21s\u001b[0m 219ms/step - Accuracy: 0.9994 - bounding_loss: 0.0025 - classifier_loss: 0.0021 - total_loss: 0.0046\n",
      "Epoch 56/200\n",
      "\u001b[1m90/90\u001b[0m \u001b[32m━━━━━━━━━━━━━━━━━━━━\u001b[0m\u001b[37m\u001b[0m \u001b[1m21s\u001b[0m 220ms/step - Accuracy: 0.9973 - bounding_loss: 0.0037 - classifier_loss: 0.0038 - total_loss: 0.0075\n",
      "Epoch 57/200\n",
      "\u001b[1m90/90\u001b[0m \u001b[32m━━━━━━━━━━━━━━━━━━━━\u001b[0m\u001b[37m\u001b[0m \u001b[1m21s\u001b[0m 220ms/step - Accuracy: 0.9942 - bounding_loss: 0.0043 - classifier_loss: 0.0038 - total_loss: 0.0081\n",
      "Epoch 58/200\n",
      "\u001b[1m90/90\u001b[0m \u001b[32m━━━━━━━━━━━━━━━━━━━━\u001b[0m\u001b[37m\u001b[0m \u001b[1m21s\u001b[0m 219ms/step - Accuracy: 0.9991 - bounding_loss: 0.0052 - classifier_loss: 0.0020 - total_loss: 0.0072\n",
      "Epoch 59/200\n",
      "\u001b[1m90/90\u001b[0m \u001b[32m━━━━━━━━━━━━━━━━━━━━\u001b[0m\u001b[37m\u001b[0m \u001b[1m21s\u001b[0m 220ms/step - Accuracy: 0.9991 - bounding_loss: 0.0056 - classifier_loss: 0.0018 - total_loss: 0.0073\n",
      "Epoch 60/200\n",
      "\u001b[1m90/90\u001b[0m \u001b[32m━━━━━━━━━━━━━━━━━━━━\u001b[0m\u001b[37m\u001b[0m \u001b[1m21s\u001b[0m 219ms/step - Accuracy: 0.9989 - bounding_loss: 0.0057 - classifier_loss: 0.0014 - total_loss: 0.0071\n",
      "Epoch 61/200\n",
      "\u001b[1m90/90\u001b[0m \u001b[32m━━━━━━━━━━━━━━━━━━━━\u001b[0m\u001b[37m\u001b[0m \u001b[1m21s\u001b[0m 219ms/step - Accuracy: 1.0000 - bounding_loss: 0.0098 - classifier_loss: 0.0012 - total_loss: 0.0110\n",
      "Epoch 62/200\n",
      "\u001b[1m90/90\u001b[0m \u001b[32m━━━━━━━━━━━━━━━━━━━━\u001b[0m\u001b[37m\u001b[0m \u001b[1m21s\u001b[0m 219ms/step - Accuracy: 0.9986 - bounding_loss: 0.0144 - classifier_loss: 0.0018 - total_loss: 0.0162\n",
      "Epoch 63/200\n",
      "\u001b[1m90/90\u001b[0m \u001b[32m━━━━━━━━━━━━━━━━━━━━\u001b[0m\u001b[37m\u001b[0m \u001b[1m21s\u001b[0m 219ms/step - Accuracy: 0.9999 - bounding_loss: 0.0135 - classifier_loss: 0.0015 - total_loss: 0.0149\n",
      "Epoch 64/200\n",
      "\u001b[1m90/90\u001b[0m \u001b[32m━━━━━━━━━━━━━━━━━━━━\u001b[0m\u001b[37m\u001b[0m \u001b[1m21s\u001b[0m 219ms/step - Accuracy: 0.9994 - bounding_loss: 0.0128 - classifier_loss: 0.0023 - total_loss: 0.0151\n",
      "Epoch 65/200\n",
      "\u001b[1m90/90\u001b[0m \u001b[32m━━━━━━━━━━━━━━━━━━━━\u001b[0m\u001b[37m\u001b[0m \u001b[1m21s\u001b[0m 220ms/step - Accuracy: 0.9968 - bounding_loss: 0.0047 - classifier_loss: 0.0040 - total_loss: 0.0087\n",
      "Epoch 66/200\n",
      "\u001b[1m90/90\u001b[0m \u001b[32m━━━━━━━━━━━━━━━━━━━━\u001b[0m\u001b[37m\u001b[0m \u001b[1m21s\u001b[0m 219ms/step - Accuracy: 1.0000 - bounding_loss: 0.0032 - classifier_loss: 8.6070e-04 - total_loss: 0.0041\n",
      "Epoch 67/200\n",
      "\u001b[1m90/90\u001b[0m \u001b[32m━━━━━━━━━━━━━━━━━━━━\u001b[0m\u001b[37m\u001b[0m \u001b[1m21s\u001b[0m 219ms/step - Accuracy: 0.9989 - bounding_loss: 0.0034 - classifier_loss: 0.0030 - total_loss: 0.0064\n",
      "Epoch 68/200\n",
      "\u001b[1m90/90\u001b[0m \u001b[32m━━━━━━━━━━━━━━━━━━━━\u001b[0m\u001b[37m\u001b[0m \u001b[1m21s\u001b[0m 219ms/step - Accuracy: 0.9982 - bounding_loss: 0.0105 - classifier_loss: 0.0030 - total_loss: 0.0134\n",
      "Epoch 69/200\n",
      "\u001b[1m90/90\u001b[0m \u001b[32m━━━━━━━━━━━━━━━━━━━━\u001b[0m\u001b[37m\u001b[0m \u001b[1m21s\u001b[0m 219ms/step - Accuracy: 0.9994 - bounding_loss: 0.0081 - classifier_loss: 9.4083e-04 - total_loss: 0.0091\n",
      "Epoch 70/200\n",
      "\u001b[1m90/90\u001b[0m \u001b[32m━━━━━━━━━━━━━━━━━━━━\u001b[0m\u001b[37m\u001b[0m \u001b[1m21s\u001b[0m 219ms/step - Accuracy: 1.0000 - bounding_loss: 0.0047 - classifier_loss: 0.0013 - total_loss: 0.0060\n",
      "Epoch 71/200\n",
      "\u001b[1m90/90\u001b[0m \u001b[32m━━━━━━━━━━━━━━━━━━━━\u001b[0m\u001b[37m\u001b[0m \u001b[1m21s\u001b[0m 220ms/step - Accuracy: 1.0000 - bounding_loss: 0.0032 - classifier_loss: 0.0013 - total_loss: 0.0045\n",
      "Epoch 72/200\n",
      "\u001b[1m90/90\u001b[0m \u001b[32m━━━━━━━━━━━━━━━━━━━━\u001b[0m\u001b[37m\u001b[0m \u001b[1m21s\u001b[0m 219ms/step - Accuracy: 1.0000 - bounding_loss: 0.0037 - classifier_loss: 5.7502e-04 - total_loss: 0.0043\n",
      "Epoch 73/200\n",
      "\u001b[1m90/90\u001b[0m \u001b[32m━━━━━━━━━━━━━━━━━━━━\u001b[0m\u001b[37m\u001b[0m \u001b[1m21s\u001b[0m 219ms/step - Accuracy: 1.0000 - bounding_loss: 0.0039 - classifier_loss: 9.8380e-04 - total_loss: 0.0049\n",
      "Epoch 74/200\n",
      "\u001b[1m90/90\u001b[0m \u001b[32m━━━━━━━━━━━━━━━━━━━━\u001b[0m\u001b[37m\u001b[0m \u001b[1m21s\u001b[0m 219ms/step - Accuracy: 0.9997 - bounding_loss: 0.0036 - classifier_loss: 0.0014 - total_loss: 0.0050\n",
      "Epoch 75/200\n",
      "\u001b[1m90/90\u001b[0m \u001b[32m━━━━━━━━━━━━━━━━━━━━\u001b[0m\u001b[37m\u001b[0m \u001b[1m21s\u001b[0m 219ms/step - Accuracy: 0.9990 - bounding_loss: 0.0036 - classifier_loss: 0.0019 - total_loss: 0.0054\n",
      "Epoch 76/200\n",
      "\u001b[1m90/90\u001b[0m \u001b[32m━━━━━━━━━━━━━━━━━━━━\u001b[0m\u001b[37m\u001b[0m \u001b[1m21s\u001b[0m 219ms/step - Accuracy: 1.0000 - bounding_loss: 0.0027 - classifier_loss: 0.0013 - total_loss: 0.0041\n",
      "Epoch 77/200\n",
      "\u001b[1m90/90\u001b[0m \u001b[32m━━━━━━━━━━━━━━━━━━━━\u001b[0m\u001b[37m\u001b[0m \u001b[1m21s\u001b[0m 219ms/step - Accuracy: 0.9991 - bounding_loss: 0.0045 - classifier_loss: 0.0014 - total_loss: 0.0060\n",
      "Epoch 78/200\n",
      "\u001b[1m90/90\u001b[0m \u001b[32m━━━━━━━━━━━━━━━━━━━━\u001b[0m\u001b[37m\u001b[0m \u001b[1m21s\u001b[0m 218ms/step - Accuracy: 0.9935 - bounding_loss: 0.0034 - classifier_loss: 0.0042 - total_loss: 0.0076\n",
      "Epoch 79/200\n",
      "\u001b[1m90/90\u001b[0m \u001b[32m━━━━━━━━━━━━━━━━━━━━\u001b[0m\u001b[37m\u001b[0m \u001b[1m21s\u001b[0m 220ms/step - Accuracy: 0.9993 - bounding_loss: 0.0040 - classifier_loss: 0.0016 - total_loss: 0.0056\n",
      "Epoch 80/200\n",
      "\u001b[1m90/90\u001b[0m \u001b[32m━━━━━━━━━━━━━━━━━━━━\u001b[0m\u001b[37m\u001b[0m \u001b[1m21s\u001b[0m 219ms/step - Accuracy: 0.9990 - bounding_loss: 0.0044 - classifier_loss: 0.0012 - total_loss: 0.0055 \n",
      "Epoch 81/200\n",
      "\u001b[1m90/90\u001b[0m \u001b[32m━━━━━━━━━━━━━━━━━━━━\u001b[0m\u001b[37m\u001b[0m \u001b[1m21s\u001b[0m 219ms/step - Accuracy: 0.9993 - bounding_loss: 0.0063 - classifier_loss: 0.0012 - total_loss: 0.0075\n",
      "Epoch 82/200\n",
      "\u001b[1m90/90\u001b[0m \u001b[32m━━━━━━━━━━━━━━━━━━━━\u001b[0m\u001b[37m\u001b[0m \u001b[1m21s\u001b[0m 219ms/step - Accuracy: 1.0000 - bounding_loss: 0.0052 - classifier_loss: 4.7576e-04 - total_loss: 0.0057\n",
      "Epoch 83/200\n",
      "\u001b[1m90/90\u001b[0m \u001b[32m━━━━━━━━━━━━━━━━━━━━\u001b[0m\u001b[37m\u001b[0m \u001b[1m21s\u001b[0m 219ms/step - Accuracy: 1.0000 - bounding_loss: 0.0075 - classifier_loss: 7.6714e-04 - total_loss: 0.0082\n",
      "Epoch 84/200\n",
      "\u001b[1m90/90\u001b[0m \u001b[32m━━━━━━━━━━━━━━━━━━━━\u001b[0m\u001b[37m\u001b[0m \u001b[1m21s\u001b[0m 220ms/step - Accuracy: 0.9985 - bounding_loss: 0.0107 - classifier_loss: 0.0012 - total_loss: 0.0119\n",
      "Epoch 85/200\n",
      "\u001b[1m90/90\u001b[0m \u001b[32m━━━━━━━━━━━━━━━━━━━━\u001b[0m\u001b[37m\u001b[0m \u001b[1m21s\u001b[0m 221ms/step - Accuracy: 0.9986 - bounding_loss: 0.0463 - classifier_loss: 0.0030 - total_loss: 0.0493\n",
      "Epoch 86/200\n",
      "\u001b[1m90/90\u001b[0m \u001b[32m━━━━━━━━━━━━━━━━━━━━\u001b[0m\u001b[37m\u001b[0m \u001b[1m21s\u001b[0m 220ms/step - Accuracy: 1.0000 - bounding_loss: 0.0218 - classifier_loss: 5.5873e-04 - total_loss: 0.0224\n",
      "Epoch 87/200\n",
      "\u001b[1m90/90\u001b[0m \u001b[32m━━━━━━━━━━━━━━━━━━━━\u001b[0m\u001b[37m\u001b[0m \u001b[1m21s\u001b[0m 219ms/step - Accuracy: 0.9997 - bounding_loss: 0.0693 - classifier_loss: 0.0019 - total_loss: 0.0712\n",
      "Epoch 88/200\n",
      "\u001b[1m90/90\u001b[0m \u001b[32m━━━━━━━━━━━━━━━━━━━━\u001b[0m\u001b[37m\u001b[0m \u001b[1m21s\u001b[0m 219ms/step - Accuracy: 0.9988 - bounding_loss: 0.0108 - classifier_loss: 0.0030 - total_loss: 0.0139\n",
      "Epoch 89/200\n",
      "\u001b[1m90/90\u001b[0m \u001b[32m━━━━━━━━━━━━━━━━━━━━\u001b[0m\u001b[37m\u001b[0m \u001b[1m21s\u001b[0m 219ms/step - Accuracy: 1.0000 - bounding_loss: 0.0047 - classifier_loss: 0.0010 - total_loss: 0.0057\n",
      "Epoch 90/200\n",
      "\u001b[1m90/90\u001b[0m \u001b[32m━━━━━━━━━━━━━━━━━━━━\u001b[0m\u001b[37m\u001b[0m \u001b[1m21s\u001b[0m 219ms/step - Accuracy: 1.0000 - bounding_loss: 0.0038 - classifier_loss: 0.0012 - total_loss: 0.0050\n",
      "Epoch 91/200\n",
      "\u001b[1m90/90\u001b[0m \u001b[32m━━━━━━━━━━━━━━━━━━━━\u001b[0m\u001b[37m\u001b[0m \u001b[1m21s\u001b[0m 220ms/step - Accuracy: 0.9987 - bounding_loss: 0.0038 - classifier_loss: 0.0039 - total_loss: 0.0077\n",
      "Epoch 92/200\n",
      "\u001b[1m90/90\u001b[0m \u001b[32m━━━━━━━━━━━━━━━━━━━━\u001b[0m\u001b[37m\u001b[0m \u001b[1m21s\u001b[0m 218ms/step - Accuracy: 0.9991 - bounding_loss: 0.0344 - classifier_loss: 0.0017 - total_loss: 0.0360\n",
      "Epoch 93/200\n",
      "\u001b[1m90/90\u001b[0m \u001b[32m━━━━━━━━━━━━━━━━━━━━\u001b[0m\u001b[37m\u001b[0m \u001b[1m21s\u001b[0m 219ms/step - Accuracy: 1.0000 - bounding_loss: 0.0164 - classifier_loss: 5.9840e-04 - total_loss: 0.0170\n",
      "Epoch 94/200\n",
      "\u001b[1m90/90\u001b[0m \u001b[32m━━━━━━━━━━━━━━━━━━━━\u001b[0m\u001b[37m\u001b[0m \u001b[1m21s\u001b[0m 220ms/step - Accuracy: 1.0000 - bounding_loss: 0.0116 - classifier_loss: 7.5176e-04 - total_loss: 0.0124\n",
      "Epoch 95/200\n",
      "\u001b[1m90/90\u001b[0m \u001b[32m━━━━━━━━━━━━━━━━━━━━\u001b[0m\u001b[37m\u001b[0m \u001b[1m21s\u001b[0m 219ms/step - Accuracy: 0.9995 - bounding_loss: 0.0050 - classifier_loss: 0.0020 - total_loss: 0.0071\n",
      "Epoch 96/200\n",
      "\u001b[1m90/90\u001b[0m \u001b[32m━━━━━━━━━━━━━━━━━━━━\u001b[0m\u001b[37m\u001b[0m \u001b[1m21s\u001b[0m 219ms/step - Accuracy: 1.0000 - bounding_loss: 0.0036 - classifier_loss: 0.0014 - total_loss: 0.0050\n",
      "Epoch 97/200\n",
      "\u001b[1m90/90\u001b[0m \u001b[32m━━━━━━━━━━━━━━━━━━━━\u001b[0m\u001b[37m\u001b[0m \u001b[1m21s\u001b[0m 220ms/step - Accuracy: 1.0000 - bounding_loss: 0.0032 - classifier_loss: 7.2686e-04 - total_loss: 0.0039\n",
      "Epoch 98/200\n",
      "\u001b[1m90/90\u001b[0m \u001b[32m━━━━━━━━━━━━━━━━━━━━\u001b[0m\u001b[37m\u001b[0m \u001b[1m21s\u001b[0m 219ms/step - Accuracy: 1.0000 - bounding_loss: 0.0025 - classifier_loss: 3.7452e-04 - total_loss: 0.0029\n",
      "Epoch 99/200\n",
      "\u001b[1m90/90\u001b[0m \u001b[32m━━━━━━━━━━━━━━━━━━━━\u001b[0m\u001b[37m\u001b[0m \u001b[1m21s\u001b[0m 219ms/step - Accuracy: 0.9997 - bounding_loss: 0.0019 - classifier_loss: 0.0016 - total_loss: 0.0035\n",
      "Epoch 100/200\n",
      "\u001b[1m90/90\u001b[0m \u001b[32m━━━━━━━━━━━━━━━━━━━━\u001b[0m\u001b[37m\u001b[0m \u001b[1m21s\u001b[0m 220ms/step - Accuracy: 0.9990 - bounding_loss: 0.0021 - classifier_loss: 0.0022 - total_loss: 0.0043\n",
      "Epoch 101/200\n",
      "\u001b[1m90/90\u001b[0m \u001b[32m━━━━━━━━━━━━━━━━━━━━\u001b[0m\u001b[37m\u001b[0m \u001b[1m21s\u001b[0m 219ms/step - Accuracy: 1.0000 - bounding_loss: 0.0019 - classifier_loss: 3.0392e-04 - total_loss: 0.0022\n",
      "Epoch 102/200\n",
      "\u001b[1m90/90\u001b[0m \u001b[32m━━━━━━━━━━━━━━━━━━━━\u001b[0m\u001b[37m\u001b[0m \u001b[1m21s\u001b[0m 219ms/step - Accuracy: 1.0000 - bounding_loss: 0.0012 - classifier_loss: 3.2007e-04 - total_loss: 0.0016\n",
      "Epoch 103/200\n",
      "\u001b[1m90/90\u001b[0m \u001b[32m━━━━━━━━━━━━━━━━━━━━\u001b[0m\u001b[37m\u001b[0m \u001b[1m21s\u001b[0m 219ms/step - Accuracy: 1.0000 - bounding_loss: 0.0018 - classifier_loss: 8.8422e-04 - total_loss: 0.0027\n",
      "Epoch 104/200\n",
      "\u001b[1m90/90\u001b[0m \u001b[32m━━━━━━━━━━━━━━━━━━━━\u001b[0m\u001b[37m\u001b[0m \u001b[1m21s\u001b[0m 219ms/step - Accuracy: 1.0000 - bounding_loss: 0.0020 - classifier_loss: 4.0074e-04 - total_loss: 0.0024\n",
      "Epoch 105/200\n",
      "\u001b[1m90/90\u001b[0m \u001b[32m━━━━━━━━━━━━━━━━━━━━\u001b[0m\u001b[37m\u001b[0m \u001b[1m21s\u001b[0m 219ms/step - Accuracy: 1.0000 - bounding_loss: 0.0016 - classifier_loss: 5.1556e-04 - total_loss: 0.0021\n",
      "Epoch 106/200\n",
      "\u001b[1m90/90\u001b[0m \u001b[32m━━━━━━━━━━━━━━━━━━━━\u001b[0m\u001b[37m\u001b[0m \u001b[1m21s\u001b[0m 219ms/step - Accuracy: 1.0000 - bounding_loss: 0.0014 - classifier_loss: 5.3940e-04 - total_loss: 0.0019\n",
      "Epoch 107/200\n",
      "\u001b[1m90/90\u001b[0m \u001b[32m━━━━━━━━━━━━━━━━━━━━\u001b[0m\u001b[37m\u001b[0m \u001b[1m21s\u001b[0m 219ms/step - Accuracy: 0.9996 - bounding_loss: 0.0015 - classifier_loss: 0.0017 - total_loss: 0.0032\n",
      "Epoch 108/200\n",
      "\u001b[1m90/90\u001b[0m \u001b[32m━━━━━━━━━━━━━━━━━━━━\u001b[0m\u001b[37m\u001b[0m \u001b[1m21s\u001b[0m 219ms/step - Accuracy: 1.0000 - bounding_loss: 0.0021 - classifier_loss: 0.0010 - total_loss: 0.0031\n",
      "Epoch 109/200\n",
      "\u001b[1m90/90\u001b[0m \u001b[32m━━━━━━━━━━━━━━━━━━━━\u001b[0m\u001b[37m\u001b[0m \u001b[1m21s\u001b[0m 219ms/step - Accuracy: 1.0000 - bounding_loss: 0.0017 - classifier_loss: 3.9427e-04 - total_loss: 0.0021\n",
      "Epoch 110/200\n",
      "\u001b[1m90/90\u001b[0m \u001b[32m━━━━━━━━━━━━━━━━━━━━\u001b[0m\u001b[37m\u001b[0m \u001b[1m21s\u001b[0m 220ms/step - Accuracy: 1.0000 - bounding_loss: 0.0019 - classifier_loss: 6.1220e-04 - total_loss: 0.0025\n",
      "Epoch 111/200\n",
      "\u001b[1m90/90\u001b[0m \u001b[32m━━━━━━━━━━━━━━━━━━━━\u001b[0m\u001b[37m\u001b[0m \u001b[1m21s\u001b[0m 219ms/step - Accuracy: 1.0000 - bounding_loss: 0.0023 - classifier_loss: 5.0975e-04 - total_loss: 0.0028\n",
      "Epoch 112/200\n",
      "\u001b[1m90/90\u001b[0m \u001b[32m━━━━━━━━━━━━━━━━━━━━\u001b[0m\u001b[37m\u001b[0m \u001b[1m21s\u001b[0m 220ms/step - Accuracy: 1.0000 - bounding_loss: 0.0042 - classifier_loss: 2.2336e-04 - total_loss: 0.0044\n",
      "Epoch 113/200\n",
      "\u001b[1m90/90\u001b[0m \u001b[32m━━━━━━━━━━━━━━━━━━━━\u001b[0m\u001b[37m\u001b[0m \u001b[1m21s\u001b[0m 219ms/step - Accuracy: 1.0000 - bounding_loss: 0.0052 - classifier_loss: 3.8755e-04 - total_loss: 0.0056\n",
      "Epoch 114/200\n",
      "\u001b[1m90/90\u001b[0m \u001b[32m━━━━━━━━━━━━━━━━━━━━\u001b[0m\u001b[37m\u001b[0m \u001b[1m21s\u001b[0m 220ms/step - Accuracy: 1.0000 - bounding_loss: 0.0038 - classifier_loss: 6.1185e-04 - total_loss: 0.0045\n",
      "Epoch 115/200\n",
      "\u001b[1m90/90\u001b[0m \u001b[32m━━━━━━━━━━━━━━━━━━━━\u001b[0m\u001b[37m\u001b[0m \u001b[1m21s\u001b[0m 220ms/step - Accuracy: 1.0000 - bounding_loss: 0.0016 - classifier_loss: 2.6749e-04 - total_loss: 0.0019\n",
      "Epoch 116/200\n",
      "\u001b[1m90/90\u001b[0m \u001b[32m━━━━━━━━━━━━━━━━━━━━\u001b[0m\u001b[37m\u001b[0m \u001b[1m21s\u001b[0m 220ms/step - Accuracy: 0.9999 - bounding_loss: 0.0018 - classifier_loss: 0.0014 - total_loss: 0.0033\n",
      "Epoch 117/200\n",
      "\u001b[1m90/90\u001b[0m \u001b[32m━━━━━━━━━━━━━━━━━━━━\u001b[0m\u001b[37m\u001b[0m \u001b[1m21s\u001b[0m 219ms/step - Accuracy: 0.9962 - bounding_loss: 0.0028 - classifier_loss: 0.0033 - total_loss: 0.0060\n",
      "Epoch 118/200\n",
      "\u001b[1m90/90\u001b[0m \u001b[32m━━━━━━━━━━━━━━━━━━━━\u001b[0m\u001b[37m\u001b[0m \u001b[1m21s\u001b[0m 220ms/step - Accuracy: 1.0000 - bounding_loss: 0.0030 - classifier_loss: 4.4072e-04 - total_loss: 0.0034\n",
      "Epoch 119/200\n",
      "\u001b[1m90/90\u001b[0m \u001b[32m━━━━━━━━━━━━━━━━━━━━\u001b[0m\u001b[37m\u001b[0m \u001b[1m21s\u001b[0m 219ms/step - Accuracy: 1.0000 - bounding_loss: 0.0028 - classifier_loss: 4.7943e-04 - total_loss: 0.0032\n",
      "Epoch 120/200\n",
      "\u001b[1m90/90\u001b[0m \u001b[32m━━━━━━━━━━━━━━━━━━━━\u001b[0m\u001b[37m\u001b[0m \u001b[1m21s\u001b[0m 219ms/step - Accuracy: 1.0000 - bounding_loss: 0.0021 - classifier_loss: 5.3201e-04 - total_loss: 0.0027\n",
      "Epoch 121/200\n",
      "\u001b[1m90/90\u001b[0m \u001b[32m━━━━━━━━━━━━━━━━━━━━\u001b[0m\u001b[37m\u001b[0m \u001b[1m21s\u001b[0m 219ms/step - Accuracy: 0.9990 - bounding_loss: 0.0033 - classifier_loss: 0.0014 - total_loss: 0.0047\n",
      "Epoch 122/200\n",
      "\u001b[1m90/90\u001b[0m \u001b[32m━━━━━━━━━━━━━━━━━━━━\u001b[0m\u001b[37m\u001b[0m \u001b[1m21s\u001b[0m 219ms/step - Accuracy: 1.0000 - bounding_loss: 0.0027 - classifier_loss: 2.8335e-04 - total_loss: 0.0030\n",
      "Epoch 123/200\n",
      "\u001b[1m90/90\u001b[0m \u001b[32m━━━━━━━━━━━━━━━━━━━━\u001b[0m\u001b[37m\u001b[0m \u001b[1m41s\u001b[0m 220ms/step - Accuracy: 0.9999 - bounding_loss: 0.0021 - classifier_loss: 0.0018 - total_loss: 0.0039\n",
      "Epoch 124/200\n",
      "\u001b[1m90/90\u001b[0m \u001b[32m━━━━━━━━━━━━━━━━━━━━\u001b[0m\u001b[37m\u001b[0m \u001b[1m21s\u001b[0m 221ms/step - Accuracy: 1.0000 - bounding_loss: 0.0017 - classifier_loss: 5.5834e-04 - total_loss: 0.0023\n",
      "Epoch 125/200\n",
      "\u001b[1m90/90\u001b[0m \u001b[32m━━━━━━━━━━━━━━━━━━━━\u001b[0m\u001b[37m\u001b[0m \u001b[1m21s\u001b[0m 219ms/step - Accuracy: 1.0000 - bounding_loss: 0.0019 - classifier_loss: 3.3439e-04 - total_loss: 0.0023\n",
      "Epoch 126/200\n",
      "\u001b[1m90/90\u001b[0m \u001b[32m━━━━━━━━━━━━━━━━━━━━\u001b[0m\u001b[37m\u001b[0m \u001b[1m21s\u001b[0m 218ms/step - Accuracy: 1.0000 - bounding_loss: 0.0063 - classifier_loss: 9.6250e-04 - total_loss: 0.0073\n",
      "Epoch 127/200\n",
      "\u001b[1m90/90\u001b[0m \u001b[32m━━━━━━━━━━━━━━━━━━━━\u001b[0m\u001b[37m\u001b[0m \u001b[1m21s\u001b[0m 219ms/step - Accuracy: 1.0000 - bounding_loss: 0.0066 - classifier_loss: 7.0900e-04 - total_loss: 0.0073\n",
      "Epoch 128/200\n",
      "\u001b[1m90/90\u001b[0m \u001b[32m━━━━━━━━━━━━━━━━━━━━\u001b[0m\u001b[37m\u001b[0m \u001b[1m21s\u001b[0m 220ms/step - Accuracy: 0.9997 - bounding_loss: 0.0032 - classifier_loss: 0.0011 - total_loss: 0.0044\n",
      "Epoch 129/200\n",
      "\u001b[1m90/90\u001b[0m \u001b[32m━━━━━━━━━━━━━━━━━━━━\u001b[0m\u001b[37m\u001b[0m \u001b[1m21s\u001b[0m 219ms/step - Accuracy: 1.0000 - bounding_loss: 0.0019 - classifier_loss: 2.2245e-04 - total_loss: 0.0021\n",
      "Epoch 130/200\n",
      "\u001b[1m90/90\u001b[0m \u001b[32m━━━━━━━━━━━━━━━━━━━━\u001b[0m\u001b[37m\u001b[0m \u001b[1m21s\u001b[0m 219ms/step - Accuracy: 0.9991 - bounding_loss: 0.0011 - classifier_loss: 8.9742e-04 - total_loss: 0.0020\n",
      "Epoch 131/200\n",
      "\u001b[1m90/90\u001b[0m \u001b[32m━━━━━━━━━━━━━━━━━━━━\u001b[0m\u001b[37m\u001b[0m \u001b[1m21s\u001b[0m 219ms/step - Accuracy: 1.0000 - bounding_loss: 0.0012 - classifier_loss: 7.1695e-04 - total_loss: 0.0019\n",
      "Epoch 132/200\n",
      "\u001b[1m90/90\u001b[0m \u001b[32m━━━━━━━━━━━━━━━━━━━━\u001b[0m\u001b[37m\u001b[0m \u001b[1m21s\u001b[0m 220ms/step - Accuracy: 1.0000 - bounding_loss: 0.0012 - classifier_loss: 3.7572e-04 - total_loss: 0.0016\n",
      "Epoch 133/200\n",
      "\u001b[1m90/90\u001b[0m \u001b[32m━━━━━━━━━━━━━━━━━━━━\u001b[0m\u001b[37m\u001b[0m \u001b[1m21s\u001b[0m 219ms/step - Accuracy: 1.0000 - bounding_loss: 0.0017 - classifier_loss: 5.4763e-04 - total_loss: 0.0022\n",
      "Epoch 134/200\n",
      "\u001b[1m90/90\u001b[0m \u001b[32m━━━━━━━━━━━━━━━━━━━━\u001b[0m\u001b[37m\u001b[0m \u001b[1m21s\u001b[0m 219ms/step - Accuracy: 1.0000 - bounding_loss: 0.0023 - classifier_loss: 6.9229e-04 - total_loss: 0.0030\n",
      "Epoch 135/200\n",
      "\u001b[1m90/90\u001b[0m \u001b[32m━━━━━━━━━━━━━━━━━━━━\u001b[0m\u001b[37m\u001b[0m \u001b[1m21s\u001b[0m 219ms/step - Accuracy: 1.0000 - bounding_loss: 0.0032 - classifier_loss: 3.8874e-04 - total_loss: 0.0036\n",
      "Epoch 136/200\n",
      "\u001b[1m90/90\u001b[0m \u001b[32m━━━━━━━━━━━━━━━━━━━━\u001b[0m\u001b[37m\u001b[0m \u001b[1m21s\u001b[0m 219ms/step - Accuracy: 1.0000 - bounding_loss: 0.0037 - classifier_loss: 2.0071e-04 - total_loss: 0.0039\n",
      "Epoch 137/200\n",
      "\u001b[1m90/90\u001b[0m \u001b[32m━━━━━━━━━━━━━━━━━━━━\u001b[0m\u001b[37m\u001b[0m \u001b[1m21s\u001b[0m 219ms/step - Accuracy: 1.0000 - bounding_loss: 0.0031 - classifier_loss: 1.6636e-04 - total_loss: 0.0033\n",
      "Epoch 138/200\n",
      "\u001b[1m90/90\u001b[0m \u001b[32m━━━━━━━━━━━━━━━━━━━━\u001b[0m\u001b[37m\u001b[0m \u001b[1m21s\u001b[0m 220ms/step - Accuracy: 1.0000 - bounding_loss: 0.0014 - classifier_loss: 3.4190e-04 - total_loss: 0.0017\n",
      "Epoch 139/200\n",
      "\u001b[1m90/90\u001b[0m \u001b[32m━━━━━━━━━━━━━━━━━━━━\u001b[0m\u001b[37m\u001b[0m \u001b[1m21s\u001b[0m 219ms/step - Accuracy: 0.9990 - bounding_loss: 0.0011 - classifier_loss: 0.0010 - total_loss: 0.0021\n",
      "Epoch 140/200\n",
      "\u001b[1m90/90\u001b[0m \u001b[32m━━━━━━━━━━━━━━━━━━━━\u001b[0m\u001b[37m\u001b[0m \u001b[1m21s\u001b[0m 219ms/step - Accuracy: 1.0000 - bounding_loss: 0.0015 - classifier_loss: 5.3697e-04 - total_loss: 0.0020\n",
      "Epoch 141/200\n",
      "\u001b[1m90/90\u001b[0m \u001b[32m━━━━━━━━━━━━━━━━━━━━\u001b[0m\u001b[37m\u001b[0m \u001b[1m21s\u001b[0m 219ms/step - Accuracy: 1.0000 - bounding_loss: 0.0016 - classifier_loss: 6.9186e-04 - total_loss: 0.0023\n",
      "Epoch 142/200\n",
      "\u001b[1m90/90\u001b[0m \u001b[32m━━━━━━━━━━━━━━━━━━━━\u001b[0m\u001b[37m\u001b[0m \u001b[1m21s\u001b[0m 220ms/step - Accuracy: 0.9965 - bounding_loss: 0.0015 - classifier_loss: 0.0014 - total_loss: 0.0029\n",
      "Epoch 143/200\n",
      "\u001b[1m90/90\u001b[0m \u001b[32m━━━━━━━━━━━━━━━━━━━━\u001b[0m\u001b[37m\u001b[0m \u001b[1m21s\u001b[0m 220ms/step - Accuracy: 0.9994 - bounding_loss: 0.0030 - classifier_loss: 0.0011 - total_loss: 0.0041\n",
      "Epoch 144/200\n",
      "\u001b[1m90/90\u001b[0m \u001b[32m━━━━━━━━━━━━━━━━━━━━\u001b[0m\u001b[37m\u001b[0m \u001b[1m21s\u001b[0m 219ms/step - Accuracy: 1.0000 - bounding_loss: 0.0044 - classifier_loss: 1.3487e-04 - total_loss: 0.0045\n",
      "Epoch 145/200\n",
      "\u001b[1m90/90\u001b[0m \u001b[32m━━━━━━━━━━━━━━━━━━━━\u001b[0m\u001b[37m\u001b[0m \u001b[1m21s\u001b[0m 219ms/step - Accuracy: 1.0000 - bounding_loss: 0.0055 - classifier_loss: 2.5106e-04 - total_loss: 0.0058\n",
      "Epoch 146/200\n",
      "\u001b[1m90/90\u001b[0m \u001b[32m━━━━━━━━━━━━━━━━━━━━\u001b[0m\u001b[37m\u001b[0m \u001b[1m21s\u001b[0m 220ms/step - Accuracy: 1.0000 - bounding_loss: 0.0024 - classifier_loss: 1.9706e-04 - total_loss: 0.0026\n",
      "Epoch 147/200\n",
      "\u001b[1m90/90\u001b[0m \u001b[32m━━━━━━━━━━━━━━━━━━━━\u001b[0m\u001b[37m\u001b[0m \u001b[1m21s\u001b[0m 219ms/step - Accuracy: 1.0000 - bounding_loss: 0.0021 - classifier_loss: 5.8354e-05 - total_loss: 0.0022\n",
      "Epoch 148/200\n",
      "\u001b[1m90/90\u001b[0m \u001b[32m━━━━━━━━━━━━━━━━━━━━\u001b[0m\u001b[37m\u001b[0m \u001b[1m21s\u001b[0m 219ms/step - Accuracy: 1.0000 - bounding_loss: 0.0019 - classifier_loss: 1.8719e-04 - total_loss: 0.0021\n",
      "Epoch 149/200\n",
      "\u001b[1m90/90\u001b[0m \u001b[32m━━━━━━━━━━━━━━━━━━━━\u001b[0m\u001b[37m\u001b[0m \u001b[1m21s\u001b[0m 219ms/step - Accuracy: 1.0000 - bounding_loss: 0.0020 - classifier_loss: 1.1886e-04 - total_loss: 0.0021\n",
      "Epoch 150/200\n",
      "\u001b[1m90/90\u001b[0m \u001b[32m━━━━━━━━━━━━━━━━━━━━\u001b[0m\u001b[37m\u001b[0m \u001b[1m21s\u001b[0m 220ms/step - Accuracy: 1.0000 - bounding_loss: 0.0023 - classifier_loss: 3.8566e-04 - total_loss: 0.0026\n",
      "Epoch 151/200\n",
      "\u001b[1m90/90\u001b[0m \u001b[32m━━━━━━━━━━━━━━━━━━━━\u001b[0m\u001b[37m\u001b[0m \u001b[1m21s\u001b[0m 219ms/step - Accuracy: 1.0000 - bounding_loss: 0.0013 - classifier_loss: 0.0011 - total_loss: 0.0024\n",
      "Epoch 152/200\n",
      "\u001b[1m90/90\u001b[0m \u001b[32m━━━━━━━━━━━━━━━━━━━━\u001b[0m\u001b[37m\u001b[0m \u001b[1m21s\u001b[0m 219ms/step - Accuracy: 1.0000 - bounding_loss: 0.0020 - classifier_loss: 3.5345e-04 - total_loss: 0.0023\n",
      "Epoch 153/200\n",
      "\u001b[1m90/90\u001b[0m \u001b[32m━━━━━━━━━━━━━━━━━━━━\u001b[0m\u001b[37m\u001b[0m \u001b[1m21s\u001b[0m 219ms/step - Accuracy: 1.0000 - bounding_loss: 0.0022 - classifier_loss: 0.0011 - total_loss: 0.0032\n",
      "Epoch 154/200\n",
      "\u001b[1m90/90\u001b[0m \u001b[32m━━━━━━━━━━━━━━━━━━━━\u001b[0m\u001b[37m\u001b[0m \u001b[1m21s\u001b[0m 218ms/step - Accuracy: 1.0000 - bounding_loss: 0.0025 - classifier_loss: 4.2477e-04 - total_loss: 0.0029\n",
      "Epoch 155/200\n",
      "\u001b[1m90/90\u001b[0m \u001b[32m━━━━━━━━━━━━━━━━━━━━\u001b[0m\u001b[37m\u001b[0m \u001b[1m21s\u001b[0m 219ms/step - Accuracy: 1.0000 - bounding_loss: 0.0029 - classifier_loss: 3.8425e-04 - total_loss: 0.0033\n",
      "Epoch 156/200\n",
      "\u001b[1m90/90\u001b[0m \u001b[32m━━━━━━━━━━━━━━━━━━━━\u001b[0m\u001b[37m\u001b[0m \u001b[1m21s\u001b[0m 220ms/step - Accuracy: 1.0000 - bounding_loss: 0.0018 - classifier_loss: 1.9576e-04 - total_loss: 0.0020\n",
      "Epoch 157/200\n",
      "\u001b[1m90/90\u001b[0m \u001b[32m━━━━━━━━━━━━━━━━━━━━\u001b[0m\u001b[37m\u001b[0m \u001b[1m21s\u001b[0m 218ms/step - Accuracy: 1.0000 - bounding_loss: 0.0024 - classifier_loss: 1.9220e-04 - total_loss: 0.0026\n",
      "Epoch 158/200\n",
      "\u001b[1m90/90\u001b[0m \u001b[32m━━━━━━━━━━━━━━━━━━━━\u001b[0m\u001b[37m\u001b[0m \u001b[1m21s\u001b[0m 220ms/step - Accuracy: 1.0000 - bounding_loss: 0.0035 - classifier_loss: 1.7489e-04 - total_loss: 0.0037\n",
      "Epoch 159/200\n",
      "\u001b[1m90/90\u001b[0m \u001b[32m━━━━━━━━━━━━━━━━━━━━\u001b[0m\u001b[37m\u001b[0m \u001b[1m21s\u001b[0m 219ms/step - Accuracy: 1.0000 - bounding_loss: 0.0018 - classifier_loss: 2.9233e-04 - total_loss: 0.0021\n",
      "Epoch 160/200\n",
      "\u001b[1m90/90\u001b[0m \u001b[32m━━━━━━━━━━━━━━━━━━━━\u001b[0m\u001b[37m\u001b[0m \u001b[1m21s\u001b[0m 218ms/step - Accuracy: 1.0000 - bounding_loss: 0.0025 - classifier_loss: 8.2535e-04 - total_loss: 0.0033\n",
      "Epoch 161/200\n",
      "\u001b[1m90/90\u001b[0m \u001b[32m━━━━━━━━━━━━━━━━━━━━\u001b[0m\u001b[37m\u001b[0m \u001b[1m21s\u001b[0m 220ms/step - Accuracy: 1.0000 - bounding_loss: 0.0014 - classifier_loss: 2.0276e-04 - total_loss: 0.0016\n",
      "Epoch 162/200\n",
      "\u001b[1m90/90\u001b[0m \u001b[32m━━━━━━━━━━━━━━━━━━━━\u001b[0m\u001b[37m\u001b[0m \u001b[1m21s\u001b[0m 220ms/step - Accuracy: 1.0000 - bounding_loss: 0.0010 - classifier_loss: 4.7529e-05 - total_loss: 0.0011\n",
      "Epoch 163/200\n",
      "\u001b[1m90/90\u001b[0m \u001b[32m━━━━━━━━━━━━━━━━━━━━\u001b[0m\u001b[37m\u001b[0m \u001b[1m21s\u001b[0m 219ms/step - Accuracy: 1.0000 - bounding_loss: 0.0011 - classifier_loss: 1.8296e-04 - total_loss: 0.0013\n",
      "Epoch 164/200\n",
      "\u001b[1m90/90\u001b[0m \u001b[32m━━━━━━━━━━━━━━━━━━━━\u001b[0m\u001b[37m\u001b[0m \u001b[1m21s\u001b[0m 220ms/step - Accuracy: 1.0000 - bounding_loss: 0.0015 - classifier_loss: 3.5298e-04 - total_loss: 0.0018\n",
      "Epoch 165/200\n",
      "\u001b[1m90/90\u001b[0m \u001b[32m━━━━━━━━━━━━━━━━━━━━\u001b[0m\u001b[37m\u001b[0m \u001b[1m21s\u001b[0m 220ms/step - Accuracy: 1.0000 - bounding_loss: 0.0015 - classifier_loss: 1.4845e-04 - total_loss: 0.0016\n",
      "Epoch 166/200\n",
      "\u001b[1m90/90\u001b[0m \u001b[32m━━━━━━━━━━━━━━━━━━━━\u001b[0m\u001b[37m\u001b[0m \u001b[1m21s\u001b[0m 219ms/step - Accuracy: 1.0000 - bounding_loss: 0.0014 - classifier_loss: 1.7226e-04 - total_loss: 0.0016\n",
      "Epoch 167/200\n",
      "\u001b[1m90/90\u001b[0m \u001b[32m━━━━━━━━━━━━━━━━━━━━\u001b[0m\u001b[37m\u001b[0m \u001b[1m21s\u001b[0m 219ms/step - Accuracy: 1.0000 - bounding_loss: 0.0014 - classifier_loss: 2.4786e-04 - total_loss: 0.0016\n",
      "Epoch 168/200\n",
      "\u001b[1m90/90\u001b[0m \u001b[32m━━━━━━━━━━━━━━━━━━━━\u001b[0m\u001b[37m\u001b[0m \u001b[1m21s\u001b[0m 219ms/step - Accuracy: 1.0000 - bounding_loss: 0.0043 - classifier_loss: 1.3819e-04 - total_loss: 0.0045\n",
      "Epoch 169/200\n",
      "\u001b[1m90/90\u001b[0m \u001b[32m━━━━━━━━━━━━━━━━━━━━\u001b[0m\u001b[37m\u001b[0m \u001b[1m21s\u001b[0m 219ms/step - Accuracy: 1.0000 - bounding_loss: 0.0057 - classifier_loss: 1.2430e-04 - total_loss: 0.0058\n",
      "Epoch 170/200\n",
      "\u001b[1m90/90\u001b[0m \u001b[32m━━━━━━━━━━━━━━━━━━━━\u001b[0m\u001b[37m\u001b[0m \u001b[1m21s\u001b[0m 219ms/step - Accuracy: 1.0000 - bounding_loss: 0.0033 - classifier_loss: 2.3368e-04 - total_loss: 0.0036\n",
      "Epoch 171/200\n",
      "\u001b[1m90/90\u001b[0m \u001b[32m━━━━━━━━━━━━━━━━━━━━\u001b[0m\u001b[37m\u001b[0m \u001b[1m21s\u001b[0m 220ms/step - Accuracy: 1.0000 - bounding_loss: 0.0023 - classifier_loss: 1.8138e-04 - total_loss: 0.0025\n",
      "Epoch 172/200\n",
      "\u001b[1m90/90\u001b[0m \u001b[32m━━━━━━━━━━━━━━━━━━━━\u001b[0m\u001b[37m\u001b[0m \u001b[1m21s\u001b[0m 219ms/step - Accuracy: 1.0000 - bounding_loss: 0.0010 - classifier_loss: 1.7241e-04 - total_loss: 0.0012\n",
      "Epoch 173/200\n",
      "\u001b[1m90/90\u001b[0m \u001b[32m━━━━━━━━━━━━━━━━━━━━\u001b[0m\u001b[37m\u001b[0m \u001b[1m21s\u001b[0m 220ms/step - Accuracy: 1.0000 - bounding_loss: 0.0012 - classifier_loss: 1.1202e-04 - total_loss: 0.0013\n",
      "Epoch 174/200\n",
      "\u001b[1m90/90\u001b[0m \u001b[32m━━━━━━━━━━━━━━━━━━━━\u001b[0m\u001b[37m\u001b[0m \u001b[1m21s\u001b[0m 218ms/step - Accuracy: 1.0000 - bounding_loss: 0.0010 - classifier_loss: 8.5505e-05 - total_loss: 0.0011\n",
      "Epoch 175/200\n",
      "\u001b[1m90/90\u001b[0m \u001b[32m━━━━━━━━━━━━━━━━━━━━\u001b[0m\u001b[37m\u001b[0m \u001b[1m21s\u001b[0m 219ms/step - Accuracy: 1.0000 - bounding_loss: 9.0225e-04 - classifier_loss: 1.1104e-04 - total_loss: 0.0010\n",
      "Epoch 176/200\n",
      "\u001b[1m90/90\u001b[0m \u001b[32m━━━━━━━━━━━━━━━━━━━━\u001b[0m\u001b[37m\u001b[0m \u001b[1m21s\u001b[0m 220ms/step - Accuracy: 1.0000 - bounding_loss: 9.1796e-04 - classifier_loss: 1.1559e-04 - total_loss: 0.0010\n",
      "Epoch 177/200\n",
      "\u001b[1m90/90\u001b[0m \u001b[32m━━━━━━━━━━━━━━━━━━━━\u001b[0m\u001b[37m\u001b[0m \u001b[1m21s\u001b[0m 219ms/step - Accuracy: 1.0000 - bounding_loss: 0.0014 - classifier_loss: 8.8144e-05 - total_loss: 0.0014\n",
      "Epoch 178/200\n",
      "\u001b[1m90/90\u001b[0m \u001b[32m━━━━━━━━━━━━━━━━━━━━\u001b[0m\u001b[37m\u001b[0m \u001b[1m21s\u001b[0m 219ms/step - Accuracy: 1.0000 - bounding_loss: 0.0014 - classifier_loss: 2.4071e-04 - total_loss: 0.0016\n",
      "Epoch 179/200\n",
      "\u001b[1m90/90\u001b[0m \u001b[32m━━━━━━━━━━━━━━━━━━━━\u001b[0m\u001b[37m\u001b[0m \u001b[1m21s\u001b[0m 219ms/step - Accuracy: 1.0000 - bounding_loss: 0.0013 - classifier_loss: 7.0116e-05 - total_loss: 0.0014\n",
      "Epoch 180/200\n",
      "\u001b[1m90/90\u001b[0m \u001b[32m━━━━━━━━━━━━━━━━━━━━\u001b[0m\u001b[37m\u001b[0m \u001b[1m21s\u001b[0m 219ms/step - Accuracy: 1.0000 - bounding_loss: 0.0013 - classifier_loss: 4.6880e-05 - total_loss: 0.0013\n",
      "Epoch 181/200\n",
      "\u001b[1m90/90\u001b[0m \u001b[32m━━━━━━━━━━━━━━━━━━━━\u001b[0m\u001b[37m\u001b[0m \u001b[1m21s\u001b[0m 219ms/step - Accuracy: 1.0000 - bounding_loss: 0.0014 - classifier_loss: 4.2993e-04 - total_loss: 0.0019\n",
      "Epoch 182/200\n",
      "\u001b[1m90/90\u001b[0m \u001b[32m━━━━━━━━━━━━━━━━━━━━\u001b[0m\u001b[37m\u001b[0m \u001b[1m21s\u001b[0m 219ms/step - Accuracy: 0.9970 - bounding_loss: 0.0015 - classifier_loss: 0.0042 - total_loss: 0.0057\n",
      "Epoch 183/200\n",
      "\u001b[1m90/90\u001b[0m \u001b[32m━━━━━━━━━━━━━━━━━━━━\u001b[0m\u001b[37m\u001b[0m \u001b[1m21s\u001b[0m 219ms/step - Accuracy: 1.0000 - bounding_loss: 0.0028 - classifier_loss: 3.1042e-04 - total_loss: 0.0031\n",
      "Epoch 184/200\n",
      "\u001b[1m90/90\u001b[0m \u001b[32m━━━━━━━━━━━━━━━━━━━━\u001b[0m\u001b[37m\u001b[0m \u001b[1m21s\u001b[0m 219ms/step - Accuracy: 1.0000 - bounding_loss: 0.0024 - classifier_loss: 2.3053e-04 - total_loss: 0.0026\n",
      "Epoch 185/200\n",
      "\u001b[1m90/90\u001b[0m \u001b[32m━━━━━━━━━━━━━━━━━━━━\u001b[0m\u001b[37m\u001b[0m \u001b[1m21s\u001b[0m 221ms/step - Accuracy: 1.0000 - bounding_loss: 0.0013 - classifier_loss: 1.8535e-04 - total_loss: 0.0014\n",
      "Epoch 186/200\n",
      "\u001b[1m90/90\u001b[0m \u001b[32m━━━━━━━━━━━━━━━━━━━━\u001b[0m\u001b[37m\u001b[0m \u001b[1m21s\u001b[0m 218ms/step - Accuracy: 1.0000 - bounding_loss: 0.0014 - classifier_loss: 1.4077e-04 - total_loss: 0.0015\n",
      "Epoch 187/200\n",
      "\u001b[1m90/90\u001b[0m \u001b[32m━━━━━━━━━━━━━━━━━━━━\u001b[0m\u001b[37m\u001b[0m \u001b[1m21s\u001b[0m 220ms/step - Accuracy: 0.9978 - bounding_loss: 0.0015 - classifier_loss: 0.0022 - total_loss: 0.0037\n",
      "Epoch 188/200\n",
      "\u001b[1m90/90\u001b[0m \u001b[32m━━━━━━━━━━━━━━━━━━━━\u001b[0m\u001b[37m\u001b[0m \u001b[1m21s\u001b[0m 220ms/step - Accuracy: 1.0000 - bounding_loss: 0.0019 - classifier_loss: 1.3262e-04 - total_loss: 0.0020\n",
      "Epoch 189/200\n",
      "\u001b[1m90/90\u001b[0m \u001b[32m━━━━━━━━━━━━━━━━━━━━\u001b[0m\u001b[37m\u001b[0m \u001b[1m21s\u001b[0m 219ms/step - Accuracy: 1.0000 - bounding_loss: 0.0011 - classifier_loss: 1.0908e-04 - total_loss: 0.0012\n",
      "Epoch 190/200\n",
      "\u001b[1m90/90\u001b[0m \u001b[32m━━━━━━━━━━━━━━━━━━━━\u001b[0m\u001b[37m\u001b[0m \u001b[1m21s\u001b[0m 219ms/step - Accuracy: 1.0000 - bounding_loss: 0.0014 - classifier_loss: 2.7936e-04 - total_loss: 0.0017\n",
      "Epoch 191/200\n",
      "\u001b[1m90/90\u001b[0m \u001b[32m━━━━━━━━━━━━━━━━━━━━\u001b[0m\u001b[37m\u001b[0m \u001b[1m21s\u001b[0m 220ms/step - Accuracy: 1.0000 - bounding_loss: 0.0023 - classifier_loss: 4.6398e-04 - total_loss: 0.0027\n",
      "Epoch 192/200\n",
      "\u001b[1m90/90\u001b[0m \u001b[32m━━━━━━━━━━━━━━━━━━━━\u001b[0m\u001b[37m\u001b[0m \u001b[1m21s\u001b[0m 220ms/step - Accuracy: 0.9993 - bounding_loss: 0.0019 - classifier_loss: 7.8028e-04 - total_loss: 0.0027\n",
      "Epoch 193/200\n",
      "\u001b[1m90/90\u001b[0m \u001b[32m━━━━━━━━━━━━━━━━━━━━\u001b[0m\u001b[37m\u001b[0m \u001b[1m21s\u001b[0m 219ms/step - Accuracy: 1.0000 - bounding_loss: 0.0011 - classifier_loss: 8.0602e-05 - total_loss: 0.0012\n",
      "Epoch 194/200\n",
      "\u001b[1m90/90\u001b[0m \u001b[32m━━━━━━━━━━━━━━━━━━━━\u001b[0m\u001b[37m\u001b[0m \u001b[1m21s\u001b[0m 219ms/step - Accuracy: 1.0000 - bounding_loss: 0.0016 - classifier_loss: 9.2714e-05 - total_loss: 0.0017\n",
      "Epoch 195/200\n",
      "\u001b[1m90/90\u001b[0m \u001b[32m━━━━━━━━━━━━━━━━━━━━\u001b[0m\u001b[37m\u001b[0m \u001b[1m21s\u001b[0m 219ms/step - Accuracy: 1.0000 - bounding_loss: 0.0020 - classifier_loss: 1.4332e-04 - total_loss: 0.0021\n",
      "Epoch 196/200\n",
      "\u001b[1m90/90\u001b[0m \u001b[32m━━━━━━━━━━━━━━━━━━━━\u001b[0m\u001b[37m\u001b[0m \u001b[1m21s\u001b[0m 220ms/step - Accuracy: 0.9983 - bounding_loss: 0.0014 - classifier_loss: 0.0013 - total_loss: 0.0026\n",
      "Epoch 197/200\n",
      "\u001b[1m90/90\u001b[0m \u001b[32m━━━━━━━━━━━━━━━━━━━━\u001b[0m\u001b[37m\u001b[0m \u001b[1m21s\u001b[0m 219ms/step - Accuracy: 1.0000 - bounding_loss: 0.0265 - classifier_loss: 3.1629e-04 - total_loss: 0.0269\n",
      "Epoch 198/200\n",
      "\u001b[1m90/90\u001b[0m \u001b[32m━━━━━━━━━━━━━━━━━━━━\u001b[0m\u001b[37m\u001b[0m \u001b[1m21s\u001b[0m 219ms/step - Accuracy: 1.0000 - bounding_loss: 0.0149 - classifier_loss: 1.2514e-04 - total_loss: 0.0150\n",
      "Epoch 199/200\n",
      "\u001b[1m90/90\u001b[0m \u001b[32m━━━━━━━━━━━━━━━━━━━━\u001b[0m\u001b[37m\u001b[0m \u001b[1m21s\u001b[0m 220ms/step - Accuracy: 1.0000 - bounding_loss: 0.0028 - classifier_loss: 1.1098e-04 - total_loss: 0.0029\n",
      "Epoch 200/200\n",
      "\u001b[1m90/90\u001b[0m \u001b[32m━━━━━━━━━━━━━━━━━━━━\u001b[0m\u001b[37m\u001b[0m \u001b[1m21s\u001b[0m 219ms/step - Accuracy: 1.0000 - bounding_loss: 0.0022 - classifier_loss: 1.8914e-04 - total_loss: 0.0024\n"
     ]
    }
   ],
   "source": [
    "history=model1.fit(train,epochs=200,verbose=1)"
   ]
  },
  {
   "cell_type": "code",
   "execution_count": 264,
   "id": "1c4aa545",
   "metadata": {
    "execution": {
     "iopub.execute_input": "2024-09-14T09:52:19.027755Z",
     "iopub.status.busy": "2024-09-14T09:52:19.026829Z",
     "iopub.status.idle": "2024-09-14T09:52:19.341993Z",
     "shell.execute_reply": "2024-09-14T09:52:19.340887Z",
     "shell.execute_reply.started": "2024-09-14T09:52:19.027709Z"
    }
   },
   "outputs": [
    {
     "data": {
      "image/png": "[encoded data removed]",
      "text/plain": [
       "<Figure size 640x480 with 1 Axes>"
      ]
     },
     "metadata": {},
     "output_type": "display_data"
    }
   ],
   "source": [
    "plt.plot(history.history['Accuracy'])\n",
    "\n",
    "plt.legend(['Accuracy'])\n",
    "plt.ylabel(\"Accuracy\")\n",
    "plt.xlabel(\"epoch\")\n",
    "plt.show()"
   ]
  },
  {
   "cell_type": "code",
   "execution_count": 265,
   "id": "d2b33f53",
   "metadata": {
    "execution": {
     "iopub.execute_input": "2024-09-14T09:52:25.624571Z",
     "iopub.status.busy": "2024-09-14T09:52:25.623864Z",
     "iopub.status.idle": "2024-09-14T09:52:25.880010Z",
     "shell.execute_reply": "2024-09-14T09:52:25.879099Z",
     "shell.execute_reply.started": "2024-09-14T09:52:25.624526Z"
    }
   },
   "outputs": [
    {
     "data": {
      "image/png": "[encoded data removed]",
      "text/plain": [
       "<Figure size 640x480 with 1 Axes>"
      ]
     },
     "metadata": {},
     "output_type": "display_data"
    }
   ],
   "source": [
    "plt.plot(history.history['bounding_loss'])\n",
    "\n",
    "plt.legend(['total loss'])\n",
    "plt.ylabel(\"loss\")\n",
    "plt.xlabel(\"epoch\")\n",
    "plt.show()"
   ]
  },
  {
   "cell_type": "code",
   "execution_count": 266,
   "id": "30e86270",
   "metadata": {
    "execution": {
     "iopub.execute_input": "2024-09-14T09:52:50.200919Z",
     "iopub.status.busy": "2024-09-14T09:52:50.200304Z",
     "iopub.status.idle": "2024-09-14T09:52:50.333083Z",
     "shell.execute_reply": "2024-09-14T09:52:50.332071Z",
     "shell.execute_reply.started": "2024-09-14T09:52:50.200877Z"
    }
   },
   "outputs": [],
   "source": [
    "# Save the model to a local directory\n",
    "classifier.save('/kaggle/working/classifierfive.h5')"
   ]
  },
  {
   "cell_type": "code",
   "execution_count": 267,
   "id": "ba53cff1",
   "metadata": {
    "execution": {
     "iopub.execute_input": "2024-09-14T09:52:51.600576Z",
     "iopub.status.busy": "2024-09-14T09:52:51.600200Z",
     "iopub.status.idle": "2024-09-14T09:52:51.717784Z",
     "shell.execute_reply": "2024-09-14T09:52:51.716871Z",
     "shell.execute_reply.started": "2024-09-14T09:52:51.600536Z"
    }
   },
   "outputs": [],
   "source": [
    "# Save the model to a local directory\n",
    "bounding.save('/kaggle/working/boundingfive.h5')"
   ]
  },
  {
   "cell_type": "code",
   "execution_count": null,
   "id": "f2955f0a",
   "metadata": {},
   "outputs": [],
   "source": []
  }
 ],
 "metadata": {
  "kaggle": {
   "accelerator": "none",
   "dataSources": [
    {
     "datasetId": 5693552,
     "sourceId": 9384389,
     "sourceType": "datasetVersion"
    }
   ],
   "dockerImageVersionId": 30762,
   "isGpuEnabled": false,
   "isInternetEnabled": true,
   "language": "python",
   "sourceType": "notebook"
  },
  "kernelspec": {
   "display_name": "face",
   "language": "python",
   "name": "face"
  },
  "language_info": {
   "codemirror_mode": {
    "name": "ipython",
    "version": 3
   },
   "file_extension": ".py",
   "mimetype": "text/x-python",
   "name": "python",
   "nbconvert_exporter": "python",
   "pygments_lexer": "ipython3",
   "version": "3.11.5"
  }
 },
 "nbformat": 4,
 "nbformat_minor": 5
}
